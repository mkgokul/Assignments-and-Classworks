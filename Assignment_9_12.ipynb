{
 "cells": [
  {
   "cell_type": "code",
   "execution_count": 3,
   "id": "584d68f5",
   "metadata": {},
   "outputs": [],
   "source": [
    "import numpy as np\n",
    "import pandas as pd\n",
    "import matplotlib.pyplot as plt\n",
    "import seaborn as sns\n",
    "from sklearn.model_selection import train_test_split\n",
    "from sklearn import linear_model\n",
    "from sklearn.metrics import mean_squared_error\n",
    "from scipy.stats.stats import pearsonr"
   ]
  },
  {
   "cell_type": "code",
   "execution_count": 4,
   "id": "b7422122",
   "metadata": {},
   "outputs": [
    {
     "data": {
      "text/html": [
       "<div>\n",
       "<style scoped>\n",
       "    .dataframe tbody tr th:only-of-type {\n",
       "        vertical-align: middle;\n",
       "    }\n",
       "\n",
       "    .dataframe tbody tr th {\n",
       "        vertical-align: top;\n",
       "    }\n",
       "\n",
       "    .dataframe thead th {\n",
       "        text-align: right;\n",
       "    }\n",
       "</style>\n",
       "<table border=\"1\" class=\"dataframe\">\n",
       "  <thead>\n",
       "    <tr style=\"text-align: right;\">\n",
       "      <th></th>\n",
       "      <th>Date</th>\n",
       "      <th>Add1(in Thousands)</th>\n",
       "      <th>Add2(in Thousands)</th>\n",
       "      <th>Add3(in Thousands)</th>\n",
       "      <th>Add4(in Thousands)</th>\n",
       "      <th>Add5(in Thousands)</th>\n",
       "      <th>Profit(in Thousands)</th>\n",
       "    </tr>\n",
       "  </thead>\n",
       "  <tbody>\n",
       "    <tr>\n",
       "      <th>200</th>\n",
       "      <td>2017-12-14</td>\n",
       "      <td>288.00</td>\n",
       "      <td>288.25</td>\n",
       "      <td>279.20</td>\n",
       "      <td>284.50</td>\n",
       "      <td>284.30</td>\n",
       "      <td>5374.105</td>\n",
       "    </tr>\n",
       "    <tr>\n",
       "      <th>201</th>\n",
       "      <td>2017-12-13</td>\n",
       "      <td>290.00</td>\n",
       "      <td>292.50</td>\n",
       "      <td>282.20</td>\n",
       "      <td>284.80</td>\n",
       "      <td>284.45</td>\n",
       "      <td>5439.655</td>\n",
       "    </tr>\n",
       "    <tr>\n",
       "      <th>202</th>\n",
       "      <td>2017-12-12</td>\n",
       "      <td>298.60</td>\n",
       "      <td>298.60</td>\n",
       "      <td>286.65</td>\n",
       "      <td>287.45</td>\n",
       "      <td>287.80</td>\n",
       "      <td>5545.013</td>\n",
       "    </tr>\n",
       "    <tr>\n",
       "      <th>203</th>\n",
       "      <td>2017-12-11</td>\n",
       "      <td>290.00</td>\n",
       "      <td>299.55</td>\n",
       "      <td>285.90</td>\n",
       "      <td>297.85</td>\n",
       "      <td>298.35</td>\n",
       "      <td>5565.444</td>\n",
       "    </tr>\n",
       "    <tr>\n",
       "      <th>204</th>\n",
       "      <td>2017-12-08</td>\n",
       "      <td>287.55</td>\n",
       "      <td>289.90</td>\n",
       "      <td>285.05</td>\n",
       "      <td>288.05</td>\n",
       "      <td>288.45</td>\n",
       "      <td>5421.842</td>\n",
       "    </tr>\n",
       "  </tbody>\n",
       "</table>\n",
       "</div>"
      ],
      "text/plain": [
       "           Date  Add1(in Thousands)  Add2(in Thousands)  Add3(in Thousands)  \\\n",
       "200  2017-12-14              288.00              288.25              279.20   \n",
       "201  2017-12-13              290.00              292.50              282.20   \n",
       "202  2017-12-12              298.60              298.60              286.65   \n",
       "203  2017-12-11              290.00              299.55              285.90   \n",
       "204  2017-12-08              287.55              289.90              285.05   \n",
       "\n",
       "     Add4(in Thousands)  Add5(in Thousands)  Profit(in Thousands)  \n",
       "200              284.50              284.30              5374.105  \n",
       "201              284.80              284.45              5439.655  \n",
       "202              287.45              287.80              5545.013  \n",
       "203              297.85              298.35              5565.444  \n",
       "204              288.05              288.45              5421.842  "
      ]
     },
     "execution_count": 4,
     "metadata": {},
     "output_type": "execute_result"
    }
   ],
   "source": [
    "df=pd.read_csv('E:\\DATA SCIENCE\\CODES and DOCS\\DOCS\\Add_sales_data_2018.csv')\n",
    "df.tail()"
   ]
  },
  {
   "cell_type": "code",
   "execution_count": 5,
   "id": "1f5d2dc8",
   "metadata": {},
   "outputs": [
    {
     "data": {
      "text/plain": [
       "(205, 7)"
      ]
     },
     "execution_count": 5,
     "metadata": {},
     "output_type": "execute_result"
    }
   ],
   "source": [
    "df.shape"
   ]
  },
  {
   "cell_type": "code",
   "execution_count": 6,
   "id": "a747c9e6",
   "metadata": {},
   "outputs": [
    {
     "name": "stdout",
     "output_type": "stream",
     "text": [
      "<class 'pandas.core.frame.DataFrame'>\n",
      "RangeIndex: 205 entries, 0 to 204\n",
      "Data columns (total 7 columns):\n",
      " #   Column                Non-Null Count  Dtype  \n",
      "---  ------                --------------  -----  \n",
      " 0   Date                  205 non-null    object \n",
      " 1   Add1(in Thousands)    205 non-null    float64\n",
      " 2   Add2(in Thousands)    205 non-null    float64\n",
      " 3   Add3(in Thousands)    205 non-null    float64\n",
      " 4   Add4(in Thousands)    205 non-null    float64\n",
      " 5   Add5(in Thousands)    205 non-null    float64\n",
      " 6   Profit(in Thousands)  205 non-null    float64\n",
      "dtypes: float64(6), object(1)\n",
      "memory usage: 11.3+ KB\n"
     ]
    }
   ],
   "source": [
    "df.info()"
   ]
  },
  {
   "cell_type": "code",
   "execution_count": 7,
   "id": "8c5d0c94",
   "metadata": {},
   "outputs": [
    {
     "data": {
      "text/plain": [
       "Date                    0\n",
       "Add1(in Thousands)      0\n",
       "Add2(in Thousands)      0\n",
       "Add3(in Thousands)      0\n",
       "Add4(in Thousands)      0\n",
       "Add5(in Thousands)      0\n",
       "Profit(in Thousands)    0\n",
       "dtype: int64"
      ]
     },
     "execution_count": 7,
     "metadata": {},
     "output_type": "execute_result"
    }
   ],
   "source": [
    "df.isna().sum()"
   ]
  },
  {
   "cell_type": "code",
   "execution_count": 8,
   "id": "acc51455",
   "metadata": {},
   "outputs": [
    {
     "data": {
      "image/png": "[encoded data removed]",
      "text/plain": [
       "<Figure size 1080x720 with 6 Axes>"
      ]
     },
     "metadata": {
      "needs_background": "light"
     },
     "output_type": "display_data"
    }
   ],
   "source": [
    "\n",
    "df.hist(figsize=(15,10))\n",
    "plt.show()"
   ]
  },
  {
   "cell_type": "markdown",
   "id": "b9f9d665",
   "metadata": {},
   "source": [
    "# check whether there is any relationship between the amount spent for advertising through five different companies and profit generated.\n"
   ]
  },
  {
   "cell_type": "code",
   "execution_count": 9,
   "id": "0a980907",
   "metadata": {},
   "outputs": [
    {
     "data": {
      "text/plain": [
       "<AxesSubplot:>"
      ]
     },
     "execution_count": 9,
     "metadata": {},
     "output_type": "execute_result"
    },
    {
     "data": {
      "image/png": "[encoded data removed]",
      "text/plain": [
       "<Figure size 1296x576 with 2 Axes>"
      ]
     },
     "metadata": {
      "needs_background": "light"
     },
     "output_type": "display_data"
    }
   ],
   "source": [
    "corrr=df.corr()\n",
    "plt.figure(figsize=(18,8))\n",
    "sns.heatmap(corrr,vmin=0.95,vmax=1,annot=True,linewidth=.2,cmap='YlGnBu')"
   ]
  },
  {
   "cell_type": "code",
   "execution_count": 10,
   "id": "074e4fa0",
   "metadata": {},
   "outputs": [],
   "source": [
    "#profit have strong correlation with amount spend on adds.  Among them strongest is Add2"
   ]
  },
  {
   "cell_type": "markdown",
   "id": "5e02f20c",
   "metadata": {},
   "source": [
    "# Build a regression model to predict the profit from the given data and  comment your findings on it."
   ]
  },
  {
   "cell_type": "code",
   "execution_count": 11,
   "id": "ac2c0d14",
   "metadata": {},
   "outputs": [
    {
     "data": {
      "text/plain": [
       "Index(['Date', 'Add1(in Thousands)', 'Add2(in Thousands)',\n",
       "       'Add3(in Thousands)', 'Add4(in Thousands)', 'Add5(in Thousands)',\n",
       "       'Profit(in Thousands)'],\n",
       "      dtype='object')"
      ]
     },
     "execution_count": 11,
     "metadata": {},
     "output_type": "execute_result"
    }
   ],
   "source": [
    "df.columns"
   ]
  },
  {
   "cell_type": "code",
   "execution_count": 24,
   "id": "f5dfa47f",
   "metadata": {},
   "outputs": [
    {
     "data": {
      "text/plain": [
       "Index(['Date', 'Add1(in Thousands)', 'Add2(in Thousands)',\n",
       "       'Add3(in Thousands)', 'Add5(in Thousands)', 'Profit(in Thousands)'],\n",
       "      dtype='object')"
      ]
     },
     "execution_count": 24,
     "metadata": {},
     "output_type": "execute_result"
    }
   ],
   "source": [
    "#dropiing Add4 since it have very strong correlatiion with Add5\n",
    "df1=df.drop(['Add4(in Thousands)'],axis=1)\n",
    "df1.columns"
   ]
  },
  {
   "cell_type": "code",
   "execution_count": 25,
   "id": "7f205afc",
   "metadata": {},
   "outputs": [
    {
     "data": {
      "text/plain": [
       "(205, 4)"
      ]
     },
     "execution_count": 25,
     "metadata": {},
     "output_type": "execute_result"
    }
   ],
   "source": [
    "y=df1['Profit(in Thousands)']\n",
    "x=df1.drop(['Profit(in Thousands)','Date'],axis=1)\n",
    "x.shape"
   ]
  },
  {
   "cell_type": "code",
   "execution_count": 26,
   "id": "008387b0",
   "metadata": {},
   "outputs": [],
   "source": [
    "x_train,x_test,y_train,y_test= train_test_split(x,y,random_state=42,test_size=0.25)\n",
    "lr=linear_model.LinearRegression()\n",
    "model=lr.fit(x_train,y_train)\n",
    "predictions= model.predict(x_test)"
   ]
  },
  {
   "cell_type": "code",
   "execution_count": 27,
   "id": "6f2f1172",
   "metadata": {},
   "outputs": [
    {
     "data": {
      "text/plain": [
       "15     4152.066\n",
       "9      4446.441\n",
       "100    5131.898\n",
       "132    4907.560\n",
       "68     5004.282\n",
       "95     4623.793\n",
       "159    5384.175\n",
       "162    5328.025\n",
       "147    5175.051\n",
       "182    5956.323\n",
       "191    5780.799\n",
       "164    4997.719\n",
       "65     5075.858\n",
       "175    5784.540\n",
       "73     4936.120\n",
       "152    5065.652\n",
       "18     4190.965\n",
       "82     5034.726\n",
       "86     5015.536\n",
       "143    5134.657\n",
       "60     5145.131\n",
       "101    5421.940\n",
       "98     4569.293\n",
       "30     4598.292\n",
       "25     4436.321\n",
       "16     4175.677\n",
       "168    5616.791\n",
       "195    5667.250\n",
       "97     4648.834\n",
       "194    5717.838\n",
       "67     5001.615\n",
       "120    5182.368\n",
       "154    5017.503\n",
       "202    5545.013\n",
       "79     5013.207\n",
       "69     5030.451\n",
       "145    5108.626\n",
       "55     4760.877\n",
       "45     4606.340\n",
       "84     4925.861\n",
       "146    5250.788\n",
       "66     5038.222\n",
       "111    5491.792\n",
       "153    5019.997\n",
       "96     4647.356\n",
       "38     4486.380\n",
       "24     4435.174\n",
       "139    5300.437\n",
       "112    5425.190\n",
       "29     4482.183\n",
       "19     4193.095\n",
       "178    6062.457\n",
       "Name: Profit(in Thousands), dtype: float64"
      ]
     },
     "execution_count": 27,
     "metadata": {},
     "output_type": "execute_result"
    }
   ],
   "source": [
    "y_test"
   ]
  },
  {
   "cell_type": "code",
   "execution_count": 36,
   "id": "6596c159",
   "metadata": {},
   "outputs": [
    {
     "data": {
      "text/plain": [
       "array([4153.2818461 , 4445.71740853, 5130.40796973, 4906.50501468,\n",
       "       5006.82541736, 4623.35932117, 5384.57472057, 5328.09443997,\n",
       "       5174.24658393, 5956.1665879 , 5780.67583526, 4998.63516679,\n",
       "       5075.71943506, 5783.16863071, 4936.48878199, 5065.32451176,\n",
       "       4190.86807497, 5034.91448533, 5013.72184751, 5134.46264443,\n",
       "       5145.26899938, 5422.49401202, 4569.02583391, 4597.91098638,\n",
       "       4436.70089824, 4175.21159561, 5616.18272777, 5667.26166773,\n",
       "       4648.94682499, 5717.83356248, 5000.53038317, 5182.27013601,\n",
       "       5017.70581515, 5545.23999615, 5013.74154448, 5033.29021927,\n",
       "       5108.65226131, 4760.01597517, 4604.87740278, 4925.60547473,\n",
       "       5252.35396509, 5038.53361181, 5491.86800825, 5019.16609419,\n",
       "       4646.96844429, 4486.3807748 , 4433.99207865, 5300.48558185,\n",
       "       5425.32966516, 4482.14603852, 4193.23839733, 6061.20029357])"
      ]
     },
     "execution_count": 36,
     "metadata": {},
     "output_type": "execute_result"
    }
   ],
   "source": [
    "predictions"
   ]
  },
  {
   "cell_type": "code",
   "execution_count": 38,
   "id": "2069cad6",
   "metadata": {},
   "outputs": [
    {
     "name": "stdout",
     "output_type": "stream",
     "text": [
      "mean squared error when all independant variables are considered is 0.759 \n"
     ]
    }
   ],
   "source": [
    "print('mean squared error when all independant variables are considered is %0.3f '%(mean_squared_error(predictions,y_test)))"
   ]
  },
  {
   "cell_type": "code",
   "execution_count": 33,
   "id": "0b706468",
   "metadata": {},
   "outputs": [
    {
     "data": {
      "text/plain": [
       "array([5022.08625, 5022.08625, 5022.08625, 5022.08625, 5022.08625,\n",
       "       5022.08625, 5022.08625, 5022.08625, 5022.08625, 5022.08625,\n",
       "       5022.08625, 5022.08625, 5022.08625, 5022.08625, 5022.08625,\n",
       "       5022.08625, 5022.08625, 5022.08625, 5022.08625, 5022.08625,\n",
       "       5022.08625, 5022.08625, 5022.08625, 5022.08625, 5022.08625,\n",
       "       5022.08625, 5022.08625, 5022.08625, 5022.08625, 5022.08625,\n",
       "       5022.08625, 5022.08625, 5022.08625, 5022.08625, 5022.08625,\n",
       "       5022.08625, 5022.08625, 5022.08625, 5022.08625, 5022.08625,\n",
       "       5022.08625, 5022.08625, 5022.08625, 5022.08625, 5022.08625,\n",
       "       5022.08625, 5022.08625, 5022.08625, 5022.08625, 5022.08625,\n",
       "       5022.08625, 5022.08625])"
      ]
     },
     "execution_count": 33,
     "metadata": {},
     "output_type": "execute_result"
    }
   ],
   "source": [
    "avg=[]\n",
    "for i in range(0,len(y_test)):\n",
    "    avg.append(np.average(y_test))\n",
    "avgArray=np.array(avg)\n",
    "avgArray\n",
    "    \n"
   ]
  },
  {
   "cell_type": "code",
   "execution_count": 39,
   "id": "ff44d664",
   "metadata": {},
   "outputs": [
    {
     "name": "stdout",
     "output_type": "stream",
     "text": [
      "mean squared error when independant variables are NOT considered is 215055.449 \n"
     ]
    }
   ],
   "source": [
    "print('mean squared error when independant variables are NOT considered is %0.3f '%(mean_squared_error(avgArray,y_test)))"
   ]
  },
  {
   "cell_type": "code",
   "execution_count": 43,
   "id": "c3f08f71",
   "metadata": {},
   "outputs": [],
   "source": [
    "#SInce MEAN SQUARED ERROR when considering Independent Variables are way more less than that of NOT considering any independent \n",
    "#variables, Add variables can explain 99% of variablility in Profit\n",
    "#Since Mean squared error is very low, predicted values are almost perfect and prediction is reliable"
   ]
  },
  {
   "cell_type": "markdown",
   "id": "1f6dc521",
   "metadata": {},
   "source": [
    "# Predict the profit generated by the company, if they wish to spend the following amount for advertisement."
   ]
  },
  {
   "cell_type": "code",
   "execution_count": 48,
   "id": "ced4493a",
   "metadata": {},
   "outputs": [
    {
     "data": {
      "text/html": [
       "<div>\n",
       "<style scoped>\n",
       "    .dataframe tbody tr th:only-of-type {\n",
       "        vertical-align: middle;\n",
       "    }\n",
       "\n",
       "    .dataframe tbody tr th {\n",
       "        vertical-align: top;\n",
       "    }\n",
       "\n",
       "    .dataframe thead th {\n",
       "        text-align: right;\n",
       "    }\n",
       "</style>\n",
       "<table border=\"1\" class=\"dataframe\">\n",
       "  <thead>\n",
       "    <tr style=\"text-align: right;\">\n",
       "      <th></th>\n",
       "      <th>Add1(in Thousands)</th>\n",
       "      <th>Add2(in Thousands)</th>\n",
       "      <th>Add3(in Thousands)</th>\n",
       "      <th>Add5(in Thousands)</th>\n",
       "    </tr>\n",
       "  </thead>\n",
       "  <tbody>\n",
       "    <tr>\n",
       "      <th>15</th>\n",
       "      <td>216.35</td>\n",
       "      <td>223.70</td>\n",
       "      <td>212.65</td>\n",
       "      <td>222.65</td>\n",
       "    </tr>\n",
       "    <tr>\n",
       "      <th>9</th>\n",
       "      <td>233.55</td>\n",
       "      <td>239.20</td>\n",
       "      <td>230.75</td>\n",
       "      <td>233.30</td>\n",
       "    </tr>\n",
       "    <tr>\n",
       "      <th>100</th>\n",
       "      <td>280.00</td>\n",
       "      <td>281.35</td>\n",
       "      <td>251.85</td>\n",
       "      <td>255.90</td>\n",
       "    </tr>\n",
       "    <tr>\n",
       "      <th>132</th>\n",
       "      <td>258.05</td>\n",
       "      <td>263.50</td>\n",
       "      <td>253.70</td>\n",
       "      <td>262.20</td>\n",
       "    </tr>\n",
       "    <tr>\n",
       "      <th>68</th>\n",
       "      <td>265.10</td>\n",
       "      <td>268.40</td>\n",
       "      <td>261.20</td>\n",
       "      <td>265.60</td>\n",
       "    </tr>\n",
       "  </tbody>\n",
       "</table>\n",
       "</div>"
      ],
      "text/plain": [
       "     Add1(in Thousands)  Add2(in Thousands)  Add3(in Thousands)  \\\n",
       "15               216.35              223.70              212.65   \n",
       "9                233.55              239.20              230.75   \n",
       "100              280.00              281.35              251.85   \n",
       "132              258.05              263.50              253.70   \n",
       "68               265.10              268.40              261.20   \n",
       "\n",
       "     Add5(in Thousands)  \n",
       "15               222.65  \n",
       "9                233.30  \n",
       "100              255.90  \n",
       "132              262.20  \n",
       "68               265.60  "
      ]
     },
     "execution_count": 48,
     "metadata": {},
     "output_type": "execute_result"
    }
   ],
   "source": [
    "x_test.head()"
   ]
  },
  {
   "cell_type": "code",
   "execution_count": 52,
   "id": "933b2932",
   "metadata": {},
   "outputs": [],
   "source": [
    "addData={'Add1(in Thousands)':[219],\n",
    "         'Add2(in Thousands)':[312],\n",
    "         'Add3(in Thousands)':[309],\n",
    "         'Add5(in Thousands)':[320]\n",
    "}"
   ]
  },
  {
   "cell_type": "code",
   "execution_count": 53,
   "id": "c6b07c4c",
   "metadata": {},
   "outputs": [
    {
     "data": {
      "text/html": [
       "<div>\n",
       "<style scoped>\n",
       "    .dataframe tbody tr th:only-of-type {\n",
       "        vertical-align: middle;\n",
       "    }\n",
       "\n",
       "    .dataframe tbody tr th {\n",
       "        vertical-align: top;\n",
       "    }\n",
       "\n",
       "    .dataframe thead th {\n",
       "        text-align: right;\n",
       "    }\n",
       "</style>\n",
       "<table border=\"1\" class=\"dataframe\">\n",
       "  <thead>\n",
       "    <tr style=\"text-align: right;\">\n",
       "      <th></th>\n",
       "      <th>Add1(in Thousands)</th>\n",
       "      <th>Add2(in Thousands)</th>\n",
       "      <th>Add3(in Thousands)</th>\n",
       "      <th>Add5(in Thousands)</th>\n",
       "    </tr>\n",
       "  </thead>\n",
       "  <tbody>\n",
       "    <tr>\n",
       "      <th>0</th>\n",
       "      <td>219</td>\n",
       "      <td>312</td>\n",
       "      <td>309</td>\n",
       "      <td>320</td>\n",
       "    </tr>\n",
       "  </tbody>\n",
       "</table>\n",
       "</div>"
      ],
      "text/plain": [
       "   Add1(in Thousands)  Add2(in Thousands)  Add3(in Thousands)  \\\n",
       "0                 219                 312                 309   \n",
       "\n",
       "   Add5(in Thousands)  \n",
       "0                 320  "
      ]
     },
     "execution_count": 53,
     "metadata": {},
     "output_type": "execute_result"
    }
   ],
   "source": [
    "data=pd.DataFrame(addData)\n",
    "data"
   ]
  },
  {
   "cell_type": "code",
   "execution_count": 54,
   "id": "25087a9b",
   "metadata": {},
   "outputs": [],
   "source": [
    "predictions1= model.predict(data)"
   ]
  },
  {
   "cell_type": "code",
   "execution_count": 56,
   "id": "5cf75872",
   "metadata": {},
   "outputs": [
    {
     "data": {
      "text/plain": [
       "array([5771.1136929])"
      ]
     },
     "execution_count": 56,
     "metadata": {},
     "output_type": "execute_result"
    }
   ],
   "source": [
    "predictions1"
   ]
  },
  {
   "cell_type": "code",
   "execution_count": 57,
   "id": "ff4780b7",
   "metadata": {},
   "outputs": [
    {
     "name": "stdout",
     "output_type": "stream",
     "text": [
      "profit generated by the values in data is  5771.113692896545\n"
     ]
    }
   ],
   "source": [
    "print('profit generated by the values in data is ',predictions1[0])"
   ]
  },
  {
   "cell_type": "code",
   "execution_count": null,
   "id": "ac4eacef",
   "metadata": {},
   "outputs": [],
   "source": []
  }
 ],
 "metadata": {
  "kernelspec": {
   "display_name": "Python 3",
   "language": "python",
   "name": "python3"
  },
  "language_info": {
   "codemirror_mode": {
    "name": "ipython",
    "version": 3
   },
   "file_extension": ".py",
   "mimetype": "text/x-python",
   "name": "python",
   "nbconvert_exporter": "python",
   "pygments_lexer": "ipython3",
   "version": "3.8.8"
  }
 },
 "nbformat": 4,
 "nbformat_minor": 5
}
