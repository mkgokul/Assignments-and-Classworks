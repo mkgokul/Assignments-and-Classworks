{
 "cells": [
  {
   "cell_type": "code",
   "execution_count": 89,
   "id": "78ba16dd",
   "metadata": {},
   "outputs": [],
   "source": [
    "import numpy as np\n",
    "import pandas as pd\n",
    "from scipy.stats import f_oneway\n",
    "import scipy.stats as stats"
   ]
  },
  {
   "cell_type": "code",
   "execution_count": 6,
   "id": "e2725c40",
   "metadata": {},
   "outputs": [
    {
     "data": {
      "text/html": [
       "<div>\n",
       "<style scoped>\n",
       "    .dataframe tbody tr th:only-of-type {\n",
       "        vertical-align: middle;\n",
       "    }\n",
       "\n",
       "    .dataframe tbody tr th {\n",
       "        vertical-align: top;\n",
       "    }\n",
       "\n",
       "    .dataframe thead th {\n",
       "        text-align: right;\n",
       "    }\n",
       "</style>\n",
       "<table border=\"1\" class=\"dataframe\">\n",
       "  <thead>\n",
       "    <tr style=\"text-align: right;\">\n",
       "      <th></th>\n",
       "      <th>Month</th>\n",
       "      <th>Zone - A</th>\n",
       "      <th>Zone - B</th>\n",
       "      <th>Zone - C</th>\n",
       "      <th>Zone - D</th>\n",
       "    </tr>\n",
       "  </thead>\n",
       "  <tbody>\n",
       "    <tr>\n",
       "      <th>0</th>\n",
       "      <td>Month - 1</td>\n",
       "      <td>1483525</td>\n",
       "      <td>1748451</td>\n",
       "      <td>1523308</td>\n",
       "      <td>2267260</td>\n",
       "    </tr>\n",
       "    <tr>\n",
       "      <th>1</th>\n",
       "      <td>Month - 2</td>\n",
       "      <td>1238428</td>\n",
       "      <td>1707421</td>\n",
       "      <td>2212113</td>\n",
       "      <td>1994341</td>\n",
       "    </tr>\n",
       "    <tr>\n",
       "      <th>2</th>\n",
       "      <td>Month - 3</td>\n",
       "      <td>1860771</td>\n",
       "      <td>2091194</td>\n",
       "      <td>1282374</td>\n",
       "      <td>1241600</td>\n",
       "    </tr>\n",
       "    <tr>\n",
       "      <th>3</th>\n",
       "      <td>Month - 4</td>\n",
       "      <td>1871571</td>\n",
       "      <td>1759617</td>\n",
       "      <td>2290580</td>\n",
       "      <td>2252681</td>\n",
       "    </tr>\n",
       "    <tr>\n",
       "      <th>4</th>\n",
       "      <td>Month - 5</td>\n",
       "      <td>1244922</td>\n",
       "      <td>1606010</td>\n",
       "      <td>1818334</td>\n",
       "      <td>1326062</td>\n",
       "    </tr>\n",
       "  </tbody>\n",
       "</table>\n",
       "</div>"
      ],
      "text/plain": [
       "       Month  Zone - A  Zone - B  Zone - C  Zone - D\n",
       "0  Month - 1   1483525   1748451   1523308   2267260\n",
       "1  Month - 2   1238428   1707421   2212113   1994341\n",
       "2  Month - 3   1860771   2091194   1282374   1241600\n",
       "3  Month - 4   1871571   1759617   2290580   2252681\n",
       "4  Month - 5   1244922   1606010   1818334   1326062"
      ]
     },
     "execution_count": 6,
     "metadata": {},
     "output_type": "execute_result"
    }
   ],
   "source": [
    "df= pd.read_csv('E:/DATA SCIENCE/CODES and DOCS/DOCS/Sales_data_zone_wise.csv')\n",
    "df.head()"
   ]
  },
  {
   "cell_type": "code",
   "execution_count": 7,
   "id": "cad69467",
   "metadata": {},
   "outputs": [
    {
     "name": "stdout",
     "output_type": "stream",
     "text": [
      "<class 'pandas.core.frame.DataFrame'>\n",
      "RangeIndex: 29 entries, 0 to 28\n",
      "Data columns (total 5 columns):\n",
      " #   Column    Non-Null Count  Dtype \n",
      "---  ------    --------------  ----- \n",
      " 0   Month     29 non-null     object\n",
      " 1   Zone - A  29 non-null     int64 \n",
      " 2   Zone - B  29 non-null     int64 \n",
      " 3   Zone - C  29 non-null     int64 \n",
      " 4   Zone - D  29 non-null     int64 \n",
      "dtypes: int64(4), object(1)\n",
      "memory usage: 1.3+ KB\n"
     ]
    }
   ],
   "source": [
    "df.info()"
   ]
  },
  {
   "cell_type": "code",
   "execution_count": 8,
   "id": "1a583a40",
   "metadata": {},
   "outputs": [
    {
     "data": {
      "text/plain": [
       "Month       0\n",
       "Zone - A    0\n",
       "Zone - B    0\n",
       "Zone - C    0\n",
       "Zone - D    0\n",
       "dtype: int64"
      ]
     },
     "execution_count": 8,
     "metadata": {},
     "output_type": "execute_result"
    }
   ],
   "source": [
    "df.isna().sum()"
   ]
  },
  {
   "cell_type": "code",
   "execution_count": null,
   "id": "6ca10a3c",
   "metadata": {},
   "outputs": [],
   "source": [
    "#There is no null values in the data set"
   ]
  },
  {
   "cell_type": "code",
   "execution_count": 11,
   "id": "3abfffec",
   "metadata": {},
   "outputs": [
    {
     "data": {
      "text/html": [
       "<div>\n",
       "<style scoped>\n",
       "    .dataframe tbody tr th:only-of-type {\n",
       "        vertical-align: middle;\n",
       "    }\n",
       "\n",
       "    .dataframe tbody tr th {\n",
       "        vertical-align: top;\n",
       "    }\n",
       "\n",
       "    .dataframe thead th {\n",
       "        text-align: right;\n",
       "    }\n",
       "</style>\n",
       "<table border=\"1\" class=\"dataframe\">\n",
       "  <thead>\n",
       "    <tr style=\"text-align: right;\">\n",
       "      <th></th>\n",
       "      <th>Zone - A</th>\n",
       "      <th>Zone - B</th>\n",
       "      <th>Zone - C</th>\n",
       "      <th>Zone - D</th>\n",
       "    </tr>\n",
       "  </thead>\n",
       "  <tbody>\n",
       "    <tr>\n",
       "      <th>count</th>\n",
       "      <td>2.900000e+01</td>\n",
       "      <td>2.900000e+01</td>\n",
       "      <td>2.900000e+01</td>\n",
       "      <td>2.900000e+01</td>\n",
       "    </tr>\n",
       "    <tr>\n",
       "      <th>mean</th>\n",
       "      <td>1.540493e+06</td>\n",
       "      <td>1.755560e+06</td>\n",
       "      <td>1.772871e+06</td>\n",
       "      <td>1.842927e+06</td>\n",
       "    </tr>\n",
       "    <tr>\n",
       "      <th>std</th>\n",
       "      <td>2.619401e+05</td>\n",
       "      <td>1.683899e+05</td>\n",
       "      <td>3.331937e+05</td>\n",
       "      <td>3.750165e+05</td>\n",
       "    </tr>\n",
       "    <tr>\n",
       "      <th>min</th>\n",
       "      <td>1.128185e+06</td>\n",
       "      <td>1.527574e+06</td>\n",
       "      <td>1.237722e+06</td>\n",
       "      <td>1.234311e+06</td>\n",
       "    </tr>\n",
       "    <tr>\n",
       "      <th>25%</th>\n",
       "      <td>1.305972e+06</td>\n",
       "      <td>1.606010e+06</td>\n",
       "      <td>1.523308e+06</td>\n",
       "      <td>1.520406e+06</td>\n",
       "    </tr>\n",
       "    <tr>\n",
       "      <th>50%</th>\n",
       "      <td>1.534390e+06</td>\n",
       "      <td>1.740365e+06</td>\n",
       "      <td>1.767047e+06</td>\n",
       "      <td>1.854412e+06</td>\n",
       "    </tr>\n",
       "    <tr>\n",
       "      <th>75%</th>\n",
       "      <td>1.820196e+06</td>\n",
       "      <td>1.875658e+06</td>\n",
       "      <td>2.098463e+06</td>\n",
       "      <td>2.180416e+06</td>\n",
       "    </tr>\n",
       "    <tr>\n",
       "      <th>max</th>\n",
       "      <td>2.004480e+06</td>\n",
       "      <td>2.091194e+06</td>\n",
       "      <td>2.290580e+06</td>\n",
       "      <td>2.364132e+06</td>\n",
       "    </tr>\n",
       "  </tbody>\n",
       "</table>\n",
       "</div>"
      ],
      "text/plain": [
       "           Zone - A      Zone - B      Zone - C      Zone - D\n",
       "count  2.900000e+01  2.900000e+01  2.900000e+01  2.900000e+01\n",
       "mean   1.540493e+06  1.755560e+06  1.772871e+06  1.842927e+06\n",
       "std    2.619401e+05  1.683899e+05  3.331937e+05  3.750165e+05\n",
       "min    1.128185e+06  1.527574e+06  1.237722e+06  1.234311e+06\n",
       "25%    1.305972e+06  1.606010e+06  1.523308e+06  1.520406e+06\n",
       "50%    1.534390e+06  1.740365e+06  1.767047e+06  1.854412e+06\n",
       "75%    1.820196e+06  1.875658e+06  2.098463e+06  2.180416e+06\n",
       "max    2.004480e+06  2.091194e+06  2.290580e+06  2.364132e+06"
      ]
     },
     "execution_count": 11,
     "metadata": {},
     "output_type": "execute_result"
    }
   ],
   "source": [
    "des=df.describe()\n",
    "des"
   ]
  },
  {
   "cell_type": "code",
   "execution_count": 14,
   "id": "f0b2e782",
   "metadata": {},
   "outputs": [
    {
     "data": {
      "text/plain": [
       "Index(['Month', 'Zone - A', 'Zone - B', 'Zone - C', 'Zone - D'], dtype='object')"
      ]
     },
     "execution_count": 14,
     "metadata": {},
     "output_type": "execute_result"
    }
   ],
   "source": [
    "df.columns"
   ]
  },
  {
   "cell_type": "markdown",
   "id": "1c2b0584",
   "metadata": {},
   "source": [
    "# ●\tThe mean sales generated by each zone"
   ]
  },
  {
   "cell_type": "code",
   "execution_count": 22,
   "id": "e662a270",
   "metadata": {},
   "outputs": [
    {
     "name": "stdout",
     "output_type": "stream",
     "text": [
      "mean sales generated by Zone A = 1540493.1379310344\n",
      "mean sales generated by Zone B = 1755559.5862068965\n",
      "mean sales generated by Zone C = 1772871.0344827587\n",
      "mean sales generated by Zone D = 1842926.7586206896\n"
     ]
    }
   ],
   "source": [
    "print('mean sales generated by Zone A =', df['Zone - A'].mean())\n",
    "print('mean sales generated by Zone B =',df['Zone - B'].mean())\n",
    "print('mean sales generated by Zone C =',df['Zone - C'].mean())\n",
    "print('mean sales generated by Zone D =',df['Zone - D'].mean())"
   ]
  },
  {
   "cell_type": "markdown",
   "id": "2354ec54",
   "metadata": {},
   "source": [
    "# ●\tTotal sales generated by all the zones for each month."
   ]
  },
  {
   "cell_type": "code",
   "execution_count": 50,
   "id": "59ad78b4",
   "metadata": {},
   "outputs": [
    {
     "data": {
      "text/plain": [
       "['Month', 'Zone - A', 'Zone - B', 'Zone - C', 'Zone - D']"
      ]
     },
     "execution_count": 50,
     "metadata": {},
     "output_type": "execute_result"
    }
   ],
   "source": [
    "col=list(df)\n",
    "col"
   ]
  },
  {
   "cell_type": "code",
   "execution_count": 51,
   "id": "2580f6b8",
   "metadata": {},
   "outputs": [],
   "source": [
    "col.remove(\"Month\")\n"
   ]
  },
  {
   "cell_type": "code",
   "execution_count": 52,
   "id": "6557345f",
   "metadata": {},
   "outputs": [
    {
     "name": "stdout",
     "output_type": "stream",
     "text": [
      "['Zone - A', 'Zone - B', 'Zone - C', 'Zone - D']\n"
     ]
    }
   ],
   "source": [
    "print(col)"
   ]
  },
  {
   "cell_type": "code",
   "execution_count": 56,
   "id": "1b7f9611",
   "metadata": {},
   "outputs": [],
   "source": [
    "sum1=df[col].sum(axis=1)"
   ]
  },
  {
   "cell_type": "code",
   "execution_count": 62,
   "id": "77d526ed",
   "metadata": {},
   "outputs": [
    {
     "name": "stdout",
     "output_type": "stream",
     "text": [
      "Sum of sales for each month for all zones\n",
      "\n",
      "Month 1 = 7022544\n",
      "Month 2 = 7152303\n",
      "Month 3 = 6475939\n",
      "Month 4 = 8174449\n",
      "Month 5 = 5995328\n",
      "Month 6 = 7151387\n",
      "Month 7 = 7287108\n",
      "Month 8 = 7816299\n",
      "Month 9 = 6703395\n",
      "Month 10 = 7128210\n",
      "Month 11 = 7032783\n",
      "Month 12 = 6111084\n",
      "Month 13 = 5925424\n",
      "Month 14 = 7155515\n",
      "Month 15 = 5934156\n",
      "Month 16 = 6506659\n",
      "Month 17 = 7149383\n",
      "Month 18 = 7083490\n",
      "Month 19 = 6971953\n",
      "Month 20 = 7124599\n",
      "Month 21 = 7389597\n",
      "Month 22 = 7560001\n",
      "Month 23 = 6687919\n",
      "Month 24 = 7784747\n",
      "Month 25 = 6095918\n",
      "Month 26 = 6512360\n",
      "Month 27 = 6267918\n",
      "Month 28 = 7470920\n",
      "Month 29 = 6772277\n"
     ]
    }
   ],
   "source": [
    "print('Sum of sales for each month for all zones\\n')\n",
    "i=1\n",
    "for x in sum1:\n",
    "    print('Month',i,'=',x)\n",
    "    i=i+1"
   ]
  },
  {
   "cell_type": "markdown",
   "id": "02e64ac2",
   "metadata": {},
   "source": [
    "# ●\tCheck whether all the zones generate the same amount of sales."
   ]
  },
  {
   "cell_type": "markdown",
   "id": "15835770",
   "metadata": {},
   "source": [
    "Ho= All the zones have same mean\n",
    "\n",
    "H1= All the zones doesnt have same mean\n",
    "\n",
    "alpha= 0.05"
   ]
  },
  {
   "cell_type": "code",
   "execution_count": 66,
   "id": "277a937e",
   "metadata": {},
   "outputs": [],
   "source": [
    "f,p=f_oneway(df['Zone - A'],df['Zone - B'],df['Zone - C'],df['Zone - D'])"
   ]
  },
  {
   "cell_type": "code",
   "execution_count": 67,
   "id": "85e5762f",
   "metadata": {},
   "outputs": [
    {
     "data": {
      "text/plain": [
       "5.672056106843581"
      ]
     },
     "execution_count": 67,
     "metadata": {},
     "output_type": "execute_result"
    }
   ],
   "source": [
    "f"
   ]
  },
  {
   "cell_type": "code",
   "execution_count": 68,
   "id": "260f6ce0",
   "metadata": {},
   "outputs": [
    {
     "data": {
      "text/plain": [
       "0.0011827601694503335"
      ]
     },
     "execution_count": 68,
     "metadata": {},
     "output_type": "execute_result"
    }
   ],
   "source": [
    "p"
   ]
  },
  {
   "cell_type": "code",
   "execution_count": 69,
   "id": "74d6cd5b",
   "metadata": {},
   "outputs": [
    {
     "name": "stdout",
     "output_type": "stream",
     "text": [
      "f-statistic = 5.6721\n",
      "P-value = 0.0012\n"
     ]
    }
   ],
   "source": [
    "print('f-statistic =', round(f,4))\n",
    "print('P-value =',round(p,4))"
   ]
  },
  {
   "cell_type": "markdown",
   "id": "116f4450",
   "metadata": {},
   "source": [
    "Since P-value<0.05 we can reject the null Hypothesis\n",
    "So we can conclude that atleast one pair of means of zones are different and hence all zones dont generate same amount of sales\n",
    "\n"
   ]
  },
  {
   "cell_type": "code",
   "execution_count": 82,
   "id": "1e0d139e",
   "metadata": {},
   "outputs": [
    {
     "data": {
      "text/plain": [
       "116"
      ]
     },
     "execution_count": 82,
     "metadata": {},
     "output_type": "execute_result"
    }
   ],
   "source": [
    "n=df[col].count().sum()\n",
    "n"
   ]
  },
  {
   "cell_type": "code",
   "execution_count": 83,
   "id": "641cf13d",
   "metadata": {},
   "outputs": [],
   "source": [
    "dfbetween= 3 #k-1=3\n",
    "dfwithin= 113 #n-k=113"
   ]
  },
  {
   "cell_type": "code",
   "execution_count": 90,
   "id": "454b2e4d",
   "metadata": {},
   "outputs": [
    {
     "data": {
      "text/plain": [
       "0.11694864387919314"
      ]
     },
     "execution_count": 90,
     "metadata": {},
     "output_type": "execute_result"
    }
   ],
   "source": [
    "\n",
    "\n",
    "stats.f.ppf(q=0.05, dfn=dfbetween,dfd=dfwithin)"
   ]
  },
  {
   "cell_type": "markdown",
   "id": "d3d223b7",
   "metadata": {},
   "source": [
    "Here also crtical F-value < f-statistic which conclude that H0 can be rejected So we can conclude that atleast one pair of means of zones are different and hence all zones dont generate same amount of sales"
   ]
  },
  {
   "cell_type": "code",
   "execution_count": null,
   "id": "f66cfa3f",
   "metadata": {},
   "outputs": [],
   "source": []
  }
 ],
 "metadata": {
  "kernelspec": {
   "display_name": "Python 3",
   "language": "python",
   "name": "python3"
  },
  "language_info": {
   "codemirror_mode": {
    "name": "ipython",
    "version": 3
   },
   "file_extension": ".py",
   "mimetype": "text/x-python",
   "name": "python",
   "nbconvert_exporter": "python",
   "pygments_lexer": "ipython3",
   "version": "3.8.8"
  }
 },
 "nbformat": 4,
 "nbformat_minor": 5
}
