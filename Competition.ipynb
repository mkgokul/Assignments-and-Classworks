{
 "cells": [
  {
   "cell_type": "code",
   "execution_count": 92,
   "id": "2f6a21d4",
   "metadata": {},
   "outputs": [],
   "source": [
    "import numpy as np\n",
    "import pandas as pd\n",
    "import seaborn as sns\n",
    "import matplotlib.pyplot as plt\n"
   ]
  },
  {
   "cell_type": "markdown",
   "id": "63818bdf",
   "metadata": {},
   "source": [
    "# reading the dataset"
   ]
  },
  {
   "cell_type": "code",
   "execution_count": 93,
   "id": "95fac665",
   "metadata": {},
   "outputs": [
    {
     "data": {
      "text/html": [
       "<div>\n",
       "<style scoped>\n",
       "    .dataframe tbody tr th:only-of-type {\n",
       "        vertical-align: middle;\n",
       "    }\n",
       "\n",
       "    .dataframe tbody tr th {\n",
       "        vertical-align: top;\n",
       "    }\n",
       "\n",
       "    .dataframe thead th {\n",
       "        text-align: right;\n",
       "    }\n",
       "</style>\n",
       "<table border=\"1\" class=\"dataframe\">\n",
       "  <thead>\n",
       "    <tr style=\"text-align: right;\">\n",
       "      <th></th>\n",
       "      <th>mark</th>\n",
       "      <th>model</th>\n",
       "      <th>generation_name</th>\n",
       "      <th>year</th>\n",
       "      <th>mileage</th>\n",
       "      <th>vol_engine</th>\n",
       "      <th>fuel</th>\n",
       "      <th>city</th>\n",
       "      <th>province</th>\n",
       "      <th>price</th>\n",
       "    </tr>\n",
       "  </thead>\n",
       "  <tbody>\n",
       "    <tr>\n",
       "      <th>0</th>\n",
       "      <td>opel</td>\n",
       "      <td>combo</td>\n",
       "      <td>gen-d-2011</td>\n",
       "      <td>2015</td>\n",
       "      <td>139568.0</td>\n",
       "      <td>1248</td>\n",
       "      <td>Diesel</td>\n",
       "      <td>Janki</td>\n",
       "      <td>Mazowieckie</td>\n",
       "      <td>35900.0</td>\n",
       "    </tr>\n",
       "    <tr>\n",
       "      <th>1</th>\n",
       "      <td>opel</td>\n",
       "      <td>combo</td>\n",
       "      <td>gen-d-2011</td>\n",
       "      <td>2018</td>\n",
       "      <td>31991.0</td>\n",
       "      <td>1499</td>\n",
       "      <td>Diesel</td>\n",
       "      <td>Katowice</td>\n",
       "      <td>Śląskie</td>\n",
       "      <td>78501.0</td>\n",
       "    </tr>\n",
       "    <tr>\n",
       "      <th>2</th>\n",
       "      <td>opel</td>\n",
       "      <td>combo</td>\n",
       "      <td>gen-d-2011</td>\n",
       "      <td>2015</td>\n",
       "      <td>278437.0</td>\n",
       "      <td>1598</td>\n",
       "      <td>Diesel</td>\n",
       "      <td>Brzeg</td>\n",
       "      <td>Opolskie</td>\n",
       "      <td>27000.0</td>\n",
       "    </tr>\n",
       "    <tr>\n",
       "      <th>3</th>\n",
       "      <td>opel</td>\n",
       "      <td>combo</td>\n",
       "      <td>gen-d-2011</td>\n",
       "      <td>2016</td>\n",
       "      <td>47600.0</td>\n",
       "      <td>1248</td>\n",
       "      <td>Diesel</td>\n",
       "      <td>Korfantów</td>\n",
       "      <td>Opolskie</td>\n",
       "      <td>30800.0</td>\n",
       "    </tr>\n",
       "    <tr>\n",
       "      <th>4</th>\n",
       "      <td>opel</td>\n",
       "      <td>combo</td>\n",
       "      <td>gen-d-2011</td>\n",
       "      <td>2014</td>\n",
       "      <td>103000.0</td>\n",
       "      <td>1400</td>\n",
       "      <td>CNG</td>\n",
       "      <td>Tarnowskie Góry</td>\n",
       "      <td>Śląskie</td>\n",
       "      <td>35900.0</td>\n",
       "    </tr>\n",
       "  </tbody>\n",
       "</table>\n",
       "</div>"
      ],
      "text/plain": [
       "   mark  model generation_name  year   mileage  vol_engine    fuel  \\\n",
       "0  opel  combo      gen-d-2011  2015  139568.0        1248  Diesel   \n",
       "1  opel  combo      gen-d-2011  2018   31991.0        1499  Diesel   \n",
       "2  opel  combo      gen-d-2011  2015  278437.0        1598  Diesel   \n",
       "3  opel  combo      gen-d-2011  2016   47600.0        1248  Diesel   \n",
       "4  opel  combo      gen-d-2011  2014  103000.0        1400     CNG   \n",
       "\n",
       "              city     province    price  \n",
       "0            Janki  Mazowieckie  35900.0  \n",
       "1         Katowice      Śląskie  78501.0  \n",
       "2            Brzeg     Opolskie  27000.0  \n",
       "3        Korfantów     Opolskie  30800.0  \n",
       "4  Tarnowskie Góry      Śląskie  35900.0  "
      ]
     },
     "execution_count": 93,
     "metadata": {},
     "output_type": "execute_result"
    }
   ],
   "source": [
    "df=pd.read_csv(r'E:\\DATA SCIENCE\\CODES and DOCS\\DOCS\\Car_Prices_Poland_Kaggle_org1.csv')\n",
    "df.head()"
   ]
  },
  {
   "cell_type": "code",
   "execution_count": 94,
   "id": "bbd2376e",
   "metadata": {},
   "outputs": [
    {
     "data": {
      "text/plain": [
       "(3216, 10)"
      ]
     },
     "execution_count": 94,
     "metadata": {},
     "output_type": "execute_result"
    }
   ],
   "source": [
    "df.shape"
   ]
  },
  {
   "cell_type": "code",
   "execution_count": 95,
   "id": "d171d3c2",
   "metadata": {},
   "outputs": [
    {
     "data": {
      "text/plain": [
       "Index(['mark', 'model', 'generation_name', 'year', 'mileage', 'vol_engine',\n",
       "       'fuel', 'city', 'province', 'price'],\n",
       "      dtype='object')"
      ]
     },
     "execution_count": 95,
     "metadata": {},
     "output_type": "execute_result"
    }
   ],
   "source": [
    "df.columns"
   ]
  },
  {
   "cell_type": "code",
   "execution_count": 96,
   "id": "ef5bd7b8",
   "metadata": {},
   "outputs": [
    {
     "name": "stdout",
     "output_type": "stream",
     "text": [
      "<class 'pandas.core.frame.DataFrame'>\n",
      "RangeIndex: 3216 entries, 0 to 3215\n",
      "Data columns (total 10 columns):\n",
      " #   Column           Non-Null Count  Dtype  \n",
      "---  ------           --------------  -----  \n",
      " 0   mark             3216 non-null   object \n",
      " 1   model            3216 non-null   object \n",
      " 2   generation_name  2950 non-null   object \n",
      " 3   year             3216 non-null   int64  \n",
      " 4   mileage          3198 non-null   float64\n",
      " 5   vol_engine       3216 non-null   int64  \n",
      " 6   fuel             3216 non-null   object \n",
      " 7   city             3216 non-null   object \n",
      " 8   province         3216 non-null   object \n",
      " 9   price            3199 non-null   float64\n",
      "dtypes: float64(2), int64(2), object(6)\n",
      "memory usage: 251.4+ KB\n"
     ]
    }
   ],
   "source": [
    "df.info()"
   ]
  },
  {
   "cell_type": "code",
   "execution_count": 97,
   "id": "6858eee0",
   "metadata": {},
   "outputs": [
    {
     "data": {
      "text/plain": [
       "mark                 0\n",
       "model                0\n",
       "generation_name    266\n",
       "year                 0\n",
       "mileage             18\n",
       "vol_engine           0\n",
       "fuel                 0\n",
       "city                 0\n",
       "province             0\n",
       "price               17\n",
       "dtype: int64"
      ]
     },
     "execution_count": 97,
     "metadata": {},
     "output_type": "execute_result"
    }
   ],
   "source": [
    "#Finding null values in the dataset\n",
    "df.isna().sum()"
   ]
  },
  {
   "cell_type": "markdown",
   "id": "ee107f4c",
   "metadata": {},
   "source": [
    "# Filling missing values"
   ]
  },
  {
   "cell_type": "code",
   "execution_count": 98,
   "id": "0275b2f6",
   "metadata": {},
   "outputs": [
    {
     "data": {
      "text/plain": [
       "10"
      ]
     },
     "execution_count": 98,
     "metadata": {},
     "output_type": "execute_result"
    }
   ],
   "source": [
    "df['generation_name'].unique().size"
   ]
  },
  {
   "cell_type": "code",
   "execution_count": 99,
   "id": "1487d147",
   "metadata": {},
   "outputs": [
    {
     "data": {
      "text/plain": [
       "0    gen-j-2009-2015\n",
       "dtype: object"
      ]
     },
     "execution_count": 99,
     "metadata": {},
     "output_type": "execute_result"
    }
   ],
   "source": [
    "df['generation_name'].mode()"
   ]
  },
  {
   "cell_type": "code",
   "execution_count": 100,
   "id": "e141cb24",
   "metadata": {},
   "outputs": [],
   "source": [
    "#filling the null values of column generation time with mode \n",
    "df['generation_name']=df['generation_name'].fillna('gen-j-2009-2015')\n"
   ]
  },
  {
   "cell_type": "code",
   "execution_count": 101,
   "id": "d227903e",
   "metadata": {},
   "outputs": [
    {
     "data": {
      "text/html": [
       "<div>\n",
       "<style scoped>\n",
       "    .dataframe tbody tr th:only-of-type {\n",
       "        vertical-align: middle;\n",
       "    }\n",
       "\n",
       "    .dataframe tbody tr th {\n",
       "        vertical-align: top;\n",
       "    }\n",
       "\n",
       "    .dataframe thead th {\n",
       "        text-align: right;\n",
       "    }\n",
       "</style>\n",
       "<table border=\"1\" class=\"dataframe\">\n",
       "  <thead>\n",
       "    <tr style=\"text-align: right;\">\n",
       "      <th></th>\n",
       "      <th>mileage</th>\n",
       "      <th>price</th>\n",
       "    </tr>\n",
       "  </thead>\n",
       "  <tbody>\n",
       "    <tr>\n",
       "      <th>0</th>\n",
       "      <td>139568.0</td>\n",
       "      <td>35900.0</td>\n",
       "    </tr>\n",
       "    <tr>\n",
       "      <th>1</th>\n",
       "      <td>31991.0</td>\n",
       "      <td>78501.0</td>\n",
       "    </tr>\n",
       "    <tr>\n",
       "      <th>2</th>\n",
       "      <td>278437.0</td>\n",
       "      <td>27000.0</td>\n",
       "    </tr>\n",
       "    <tr>\n",
       "      <th>3</th>\n",
       "      <td>47600.0</td>\n",
       "      <td>30800.0</td>\n",
       "    </tr>\n",
       "    <tr>\n",
       "      <th>4</th>\n",
       "      <td>103000.0</td>\n",
       "      <td>35900.0</td>\n",
       "    </tr>\n",
       "    <tr>\n",
       "      <th>...</th>\n",
       "      <td>...</td>\n",
       "      <td>...</td>\n",
       "    </tr>\n",
       "    <tr>\n",
       "      <th>3211</th>\n",
       "      <td>83282.0</td>\n",
       "      <td>48000.0</td>\n",
       "    </tr>\n",
       "    <tr>\n",
       "      <th>3212</th>\n",
       "      <td>100953.0</td>\n",
       "      <td>53900.0</td>\n",
       "    </tr>\n",
       "    <tr>\n",
       "      <th>3213</th>\n",
       "      <td>20800.0</td>\n",
       "      <td>68900.0</td>\n",
       "    </tr>\n",
       "    <tr>\n",
       "      <th>3214</th>\n",
       "      <td>6085.0</td>\n",
       "      <td>83900.0</td>\n",
       "    </tr>\n",
       "    <tr>\n",
       "      <th>3215</th>\n",
       "      <td>12750.0</td>\n",
       "      <td>66900.0</td>\n",
       "    </tr>\n",
       "  </tbody>\n",
       "</table>\n",
       "<p>3216 rows × 2 columns</p>\n",
       "</div>"
      ],
      "text/plain": [
       "       mileage    price\n",
       "0     139568.0  35900.0\n",
       "1      31991.0  78501.0\n",
       "2     278437.0  27000.0\n",
       "3      47600.0  30800.0\n",
       "4     103000.0  35900.0\n",
       "...        ...      ...\n",
       "3211   83282.0  48000.0\n",
       "3212  100953.0  53900.0\n",
       "3213   20800.0  68900.0\n",
       "3214    6085.0  83900.0\n",
       "3215   12750.0  66900.0\n",
       "\n",
       "[3216 rows x 2 columns]"
      ]
     },
     "execution_count": 101,
     "metadata": {},
     "output_type": "execute_result"
    }
   ],
   "source": [
    "freq=df.select_dtypes(include=['float','int'])\n",
    "freq"
   ]
  },
  {
   "cell_type": "code",
   "execution_count": 102,
   "id": "e45c698a",
   "metadata": {},
   "outputs": [
    {
     "data": {
      "image/png": "[encoded data removed]",
      "text/plain": [
       "<Figure size 864x360 with 2 Axes>"
      ]
     },
     "metadata": {
      "needs_background": "light"
     },
     "output_type": "display_data"
    }
   ],
   "source": [
    "freq.hist(figsize=(12,5))\n",
    "plt.show()"
   ]
  },
  {
   "cell_type": "code",
   "execution_count": 103,
   "id": "6c8965d6",
   "metadata": {},
   "outputs": [],
   "source": [
    "#Filling mileage with mean and price with median\n",
    "df['mileage']=df['mileage'].fillna(df['mileage'].mean())\n",
    "df['price']=df['price'].fillna(df['price'].mean())"
   ]
  },
  {
   "cell_type": "code",
   "execution_count": 104,
   "id": "2f53c165",
   "metadata": {},
   "outputs": [
    {
     "data": {
      "text/plain": [
       "mark               0\n",
       "model              0\n",
       "generation_name    0\n",
       "year               0\n",
       "mileage            0\n",
       "vol_engine         0\n",
       "fuel               0\n",
       "city               0\n",
       "province           0\n",
       "price              0\n",
       "dtype: int64"
      ]
     },
     "execution_count": 104,
     "metadata": {},
     "output_type": "execute_result"
    }
   ],
   "source": [
    "df.isna().sum()"
   ]
  },
  {
   "cell_type": "code",
   "execution_count": 105,
   "id": "afa85ba3",
   "metadata": {},
   "outputs": [
    {
     "data": {
      "text/html": [
       "<div>\n",
       "<style scoped>\n",
       "    .dataframe tbody tr th:only-of-type {\n",
       "        vertical-align: middle;\n",
       "    }\n",
       "\n",
       "    .dataframe tbody tr th {\n",
       "        vertical-align: top;\n",
       "    }\n",
       "\n",
       "    .dataframe thead th {\n",
       "        text-align: right;\n",
       "    }\n",
       "</style>\n",
       "<table border=\"1\" class=\"dataframe\">\n",
       "  <thead>\n",
       "    <tr style=\"text-align: right;\">\n",
       "      <th></th>\n",
       "      <th>year</th>\n",
       "      <th>mileage</th>\n",
       "      <th>vol_engine</th>\n",
       "      <th>price</th>\n",
       "    </tr>\n",
       "    <tr>\n",
       "      <th>model</th>\n",
       "      <th></th>\n",
       "      <th></th>\n",
       "      <th></th>\n",
       "      <th></th>\n",
       "    </tr>\n",
       "  </thead>\n",
       "  <tbody>\n",
       "    <tr>\n",
       "      <th>adam</th>\n",
       "      <td>2015.125000</td>\n",
       "      <td>73981.166667</td>\n",
       "      <td>1305.302083</td>\n",
       "      <td>35629.385417</td>\n",
       "    </tr>\n",
       "    <tr>\n",
       "      <th>agila</th>\n",
       "      <td>2007.845238</td>\n",
       "      <td>142339.880952</td>\n",
       "      <td>1125.000000</td>\n",
       "      <td>12466.166667</td>\n",
       "    </tr>\n",
       "    <tr>\n",
       "      <th>ampera</th>\n",
       "      <td>2013.100000</td>\n",
       "      <td>180200.900000</td>\n",
       "      <td>1258.200000</td>\n",
       "      <td>62070.000000</td>\n",
       "    </tr>\n",
       "    <tr>\n",
       "      <th>antara</th>\n",
       "      <td>2008.956250</td>\n",
       "      <td>188311.168750</td>\n",
       "      <td>2169.337500</td>\n",
       "      <td>28401.568750</td>\n",
       "    </tr>\n",
       "    <tr>\n",
       "      <th>astra</th>\n",
       "      <td>2010.452372</td>\n",
       "      <td>166330.250277</td>\n",
       "      <td>1562.736645</td>\n",
       "      <td>26257.515683</td>\n",
       "    </tr>\n",
       "    <tr>\n",
       "      <th>combo</th>\n",
       "      <td>2015.843750</td>\n",
       "      <td>140507.687500</td>\n",
       "      <td>1433.218750</td>\n",
       "      <td>39868.468750</td>\n",
       "    </tr>\n",
       "    <tr>\n",
       "      <th>vectra</th>\n",
       "      <td>2004.168000</td>\n",
       "      <td>231323.568000</td>\n",
       "      <td>1974.664000</td>\n",
       "      <td>10335.608000</td>\n",
       "    </tr>\n",
       "  </tbody>\n",
       "</table>\n",
       "</div>"
      ],
      "text/plain": [
       "               year        mileage   vol_engine         price\n",
       "model                                                        \n",
       "adam    2015.125000   73981.166667  1305.302083  35629.385417\n",
       "agila   2007.845238  142339.880952  1125.000000  12466.166667\n",
       "ampera  2013.100000  180200.900000  1258.200000  62070.000000\n",
       "antara  2008.956250  188311.168750  2169.337500  28401.568750\n",
       "astra   2010.452372  166330.250277  1562.736645  26257.515683\n",
       "combo   2015.843750  140507.687500  1433.218750  39868.468750\n",
       "vectra  2004.168000  231323.568000  1974.664000  10335.608000"
      ]
     },
     "execution_count": 105,
     "metadata": {},
     "output_type": "execute_result"
    }
   ],
   "source": [
    "df.groupby('model').mean()"
   ]
  },
  {
   "cell_type": "code",
   "execution_count": 106,
   "id": "c2bded33",
   "metadata": {},
   "outputs": [
    {
     "data": {
      "text/html": [
       "<div>\n",
       "<style scoped>\n",
       "    .dataframe tbody tr th:only-of-type {\n",
       "        vertical-align: middle;\n",
       "    }\n",
       "\n",
       "    .dataframe tbody tr th {\n",
       "        vertical-align: top;\n",
       "    }\n",
       "\n",
       "    .dataframe thead th {\n",
       "        text-align: right;\n",
       "    }\n",
       "</style>\n",
       "<table border=\"1\" class=\"dataframe\">\n",
       "  <thead>\n",
       "    <tr style=\"text-align: right;\">\n",
       "      <th></th>\n",
       "      <th>year</th>\n",
       "      <th>mileage</th>\n",
       "      <th>vol_engine</th>\n",
       "      <th>price</th>\n",
       "    </tr>\n",
       "    <tr>\n",
       "      <th>mark</th>\n",
       "      <th></th>\n",
       "      <th></th>\n",
       "      <th></th>\n",
       "      <th></th>\n",
       "    </tr>\n",
       "  </thead>\n",
       "  <tbody>\n",
       "    <tr>\n",
       "      <th>opel</th>\n",
       "      <td>2010.320585</td>\n",
       "      <td>166095.944028</td>\n",
       "      <td>1586.284204</td>\n",
       "      <td>26047.087215</td>\n",
       "    </tr>\n",
       "  </tbody>\n",
       "</table>\n",
       "</div>"
      ],
      "text/plain": [
       "             year        mileage   vol_engine         price\n",
       "mark                                                       \n",
       "opel  2010.320585  166095.944028  1586.284204  26047.087215"
      ]
     },
     "execution_count": 106,
     "metadata": {},
     "output_type": "execute_result"
    }
   ],
   "source": [
    "df.groupby('mark').mean()"
   ]
  },
  {
   "cell_type": "code",
   "execution_count": 107,
   "id": "93c45b46",
   "metadata": {},
   "outputs": [
    {
     "data": {
      "text/plain": [
       "55"
      ]
     },
     "execution_count": 107,
     "metadata": {},
     "output_type": "execute_result"
    }
   ],
   "source": [
    "df.vol_engine.nunique()"
   ]
  },
  {
   "cell_type": "markdown",
   "id": "7c404d22",
   "metadata": {},
   "source": [
    "# Checking Outliers"
   ]
  },
  {
   "cell_type": "code",
   "execution_count": 108,
   "id": "5872da5d",
   "metadata": {},
   "outputs": [
    {
     "name": "stderr",
     "output_type": "stream",
     "text": [
      "<ipython-input-108-6c3cac7204d4>:3: MatplotlibDeprecationWarning: Case-insensitive properties were deprecated in 3.3 and support will be removed two minor releases later\n",
      "  plt.title('Box plot for Mileage\\n',fontSize=16)\n"
     ]
    },
    {
     "data": {
      "text/plain": [
       "Text(0.5, 1.0, 'Box plot for Mileage\\n')"
      ]
     },
     "execution_count": 108,
     "metadata": {},
     "output_type": "execute_result"
    },
    {
     "data": {
      "image/png": "[encoded data removed]",
      "text/plain": [
       "<Figure size 432x288 with 1 Axes>"
      ]
     },
     "metadata": {
      "needs_background": "light"
     },
     "output_type": "display_data"
    }
   ],
   "source": [
    "#For mileage\n",
    "plt.boxplot(df['mileage'])\n",
    "plt.title('Box plot for Mileage\\n',fontSize=16)"
   ]
  },
  {
   "cell_type": "code",
   "execution_count": 109,
   "id": "f08b0399",
   "metadata": {},
   "outputs": [],
   "source": [
    "Q1= np.percentile(df['mileage'],25,interpolation='midpoint')\n",
    "Q2= np.percentile(df['mileage'],50,interpolation='midpoint')\n",
    "Q3= np.percentile(df['mileage'],75,interpolation='midpoint')\n",
    "IQR=Q3-Q1\n",
    "low_lim=Q1-1.5*IQR\n",
    "up_lim=Q3+1.5*IQR\n"
   ]
  },
  {
   "cell_type": "code",
   "execution_count": 110,
   "id": "1203fa72",
   "metadata": {},
   "outputs": [],
   "source": [
    "outlier=[]\n",
    "for i in df['mileage']:\n",
    "    if i<low_lim or i>up_lim:\n",
    "        outlier.append(i)"
   ]
  },
  {
   "cell_type": "code",
   "execution_count": 111,
   "id": "edf4c64e",
   "metadata": {},
   "outputs": [
    {
     "data": {
      "text/plain": [
       "[345000.0,\n",
       " 401315.0,\n",
       " 398119.0,\n",
       " 375000.0,\n",
       " 350000.0,\n",
       " 400000.0,\n",
       " 413000.0,\n",
       " 363000.0,\n",
       " 363000.0,\n",
       " 379115.0,\n",
       " 341000.0,\n",
       " 354000.0,\n",
       " 350000.0,\n",
       " 341000.0,\n",
       " 434400.0,\n",
       " 340317.0,\n",
       " 360000.0,\n",
       " 340000.0,\n",
       " 343000.0,\n",
       " 339714.0,\n",
       " 360000.0,\n",
       " 350000.0,\n",
       " 341667.0,\n",
       " 348856.0,\n",
       " 342765.0,\n",
       " 335000.0,\n",
       " 339600.0]"
      ]
     },
     "execution_count": 111,
     "metadata": {},
     "output_type": "execute_result"
    }
   ],
   "source": [
    "outlier"
   ]
  },
  {
   "cell_type": "code",
   "execution_count": 112,
   "id": "40c64e58",
   "metadata": {},
   "outputs": [],
   "source": [
    "lis1=df['mileage']>up_lim\n",
    "index_up=df.loc[lis1].index\n",
    "lis2=df['mileage']<low_lim\n",
    "index_low=df.loc[lis2].index"
   ]
  },
  {
   "cell_type": "code",
   "execution_count": 113,
   "id": "d717bd9d",
   "metadata": {},
   "outputs": [
    {
     "data": {
      "text/plain": [
       "Int64Index([  66,   69,  158,  164,  171,  182,  475,  552,  584,  654,  752,\n",
       "             774,  786,  859,  874,  915,  934, 1091, 1233, 1247, 1314, 1332,\n",
       "            1416, 1425, 1466, 1474, 2180],\n",
       "           dtype='int64')"
      ]
     },
     "execution_count": 113,
     "metadata": {},
     "output_type": "execute_result"
    }
   ],
   "source": [
    "index_up"
   ]
  },
  {
   "cell_type": "code",
   "execution_count": 114,
   "id": "51a73f87",
   "metadata": {},
   "outputs": [
    {
     "data": {
      "text/plain": [
       "Int64Index([], dtype='int64')"
      ]
     },
     "execution_count": 114,
     "metadata": {},
     "output_type": "execute_result"
    }
   ],
   "source": [
    "index_low"
   ]
  },
  {
   "cell_type": "code",
   "execution_count": 115,
   "id": "08064a15",
   "metadata": {},
   "outputs": [],
   "source": [
    "df.drop(index_up,inplace=True)"
   ]
  },
  {
   "cell_type": "code",
   "execution_count": 116,
   "id": "45a80e34",
   "metadata": {},
   "outputs": [
    {
     "data": {
      "text/plain": [
       "(3189, 10)"
      ]
     },
     "execution_count": 116,
     "metadata": {},
     "output_type": "execute_result"
    }
   ],
   "source": [
    "df.shape"
   ]
  },
  {
   "cell_type": "code",
   "execution_count": 117,
   "id": "65f352e9",
   "metadata": {},
   "outputs": [
    {
     "name": "stderr",
     "output_type": "stream",
     "text": [
      "<ipython-input-117-ccae18e1df43>:3: MatplotlibDeprecationWarning: Case-insensitive properties were deprecated in 3.3 and support will be removed two minor releases later\n",
      "  plt.title('Box plot for price\\n',fontSize=16)\n"
     ]
    },
    {
     "data": {
      "text/plain": [
       "Text(0.5, 1.0, 'Box plot for price\\n')"
      ]
     },
     "execution_count": 117,
     "metadata": {},
     "output_type": "execute_result"
    },
    {
     "data": {
      "image/png": "[encoded data removed]",
      "text/plain": [
       "<Figure size 432x288 with 1 Axes>"
      ]
     },
     "metadata": {
      "needs_background": "light"
     },
     "output_type": "display_data"
    }
   ],
   "source": [
    "#Checking outliers for price\n",
    "plt.boxplot(df['price'])\n",
    "plt.title('Box plot for price\\n',fontSize=16)"
   ]
  },
  {
   "cell_type": "code",
   "execution_count": 118,
   "id": "edcb1575",
   "metadata": {},
   "outputs": [],
   "source": [
    "Q1= np.percentile(df['price'],25,interpolation='midpoint')\n",
    "Q2= np.percentile(df['price'],50,interpolation='midpoint')\n",
    "Q3= np.percentile(df['price'],75,interpolation='midpoint')\n",
    "IQR=Q3-Q1\n",
    "low_lim=Q1-1.5*IQR\n",
    "up_lim=Q3+1.5*IQR"
   ]
  },
  {
   "cell_type": "code",
   "execution_count": 119,
   "id": "9da874b1",
   "metadata": {},
   "outputs": [],
   "source": [
    "lis1=df['price']>up_lim\n",
    "index_up=df.loc[lis1].index\n",
    "lis2=df['price']<low_lim\n",
    "index_low=df.loc[lis2].index"
   ]
  },
  {
   "cell_type": "code",
   "execution_count": 120,
   "id": "c440a50c",
   "metadata": {},
   "outputs": [
    {
     "data": {
      "text/plain": [
       "131"
      ]
     },
     "execution_count": 120,
     "metadata": {},
     "output_type": "execute_result"
    }
   ],
   "source": [
    "len(index_up)"
   ]
  },
  {
   "cell_type": "code",
   "execution_count": 121,
   "id": "22be7e02",
   "metadata": {},
   "outputs": [
    {
     "data": {
      "text/plain": [
       "0"
      ]
     },
     "execution_count": 121,
     "metadata": {},
     "output_type": "execute_result"
    }
   ],
   "source": [
    "len(index_low)"
   ]
  },
  {
   "cell_type": "code",
   "execution_count": 122,
   "id": "7b046804",
   "metadata": {},
   "outputs": [],
   "source": [
    "df.drop(index_up,inplace=True)"
   ]
  },
  {
   "cell_type": "code",
   "execution_count": 123,
   "id": "18ddd529",
   "metadata": {},
   "outputs": [
    {
     "data": {
      "text/plain": [
       "(3058, 10)"
      ]
     },
     "execution_count": 123,
     "metadata": {},
     "output_type": "execute_result"
    }
   ],
   "source": [
    "df.shape"
   ]
  },
  {
   "cell_type": "markdown",
   "id": "1af04c34",
   "metadata": {},
   "source": [
    "# Feature reduction"
   ]
  },
  {
   "cell_type": "code",
   "execution_count": 124,
   "id": "f4ec2f74",
   "metadata": {},
   "outputs": [
    {
     "data": {
      "text/html": [
       "<div>\n",
       "<style scoped>\n",
       "    .dataframe tbody tr th:only-of-type {\n",
       "        vertical-align: middle;\n",
       "    }\n",
       "\n",
       "    .dataframe tbody tr th {\n",
       "        vertical-align: top;\n",
       "    }\n",
       "\n",
       "    .dataframe thead th {\n",
       "        text-align: right;\n",
       "    }\n",
       "</style>\n",
       "<table border=\"1\" class=\"dataframe\">\n",
       "  <thead>\n",
       "    <tr style=\"text-align: right;\">\n",
       "      <th></th>\n",
       "      <th>mark</th>\n",
       "      <th>model</th>\n",
       "      <th>generation_name</th>\n",
       "      <th>year</th>\n",
       "      <th>mileage</th>\n",
       "      <th>vol_engine</th>\n",
       "      <th>fuel</th>\n",
       "      <th>city</th>\n",
       "      <th>province</th>\n",
       "      <th>price</th>\n",
       "    </tr>\n",
       "  </thead>\n",
       "  <tbody>\n",
       "    <tr>\n",
       "      <th>0</th>\n",
       "      <td>opel</td>\n",
       "      <td>combo</td>\n",
       "      <td>gen-d-2011</td>\n",
       "      <td>2015</td>\n",
       "      <td>139568.0</td>\n",
       "      <td>1248</td>\n",
       "      <td>Diesel</td>\n",
       "      <td>Janki</td>\n",
       "      <td>Mazowieckie</td>\n",
       "      <td>35900.0</td>\n",
       "    </tr>\n",
       "    <tr>\n",
       "      <th>2</th>\n",
       "      <td>opel</td>\n",
       "      <td>combo</td>\n",
       "      <td>gen-d-2011</td>\n",
       "      <td>2015</td>\n",
       "      <td>278437.0</td>\n",
       "      <td>1598</td>\n",
       "      <td>Diesel</td>\n",
       "      <td>Brzeg</td>\n",
       "      <td>Opolskie</td>\n",
       "      <td>27000.0</td>\n",
       "    </tr>\n",
       "    <tr>\n",
       "      <th>3</th>\n",
       "      <td>opel</td>\n",
       "      <td>combo</td>\n",
       "      <td>gen-d-2011</td>\n",
       "      <td>2016</td>\n",
       "      <td>47600.0</td>\n",
       "      <td>1248</td>\n",
       "      <td>Diesel</td>\n",
       "      <td>Korfantów</td>\n",
       "      <td>Opolskie</td>\n",
       "      <td>30800.0</td>\n",
       "    </tr>\n",
       "    <tr>\n",
       "      <th>4</th>\n",
       "      <td>opel</td>\n",
       "      <td>combo</td>\n",
       "      <td>gen-d-2011</td>\n",
       "      <td>2014</td>\n",
       "      <td>103000.0</td>\n",
       "      <td>1400</td>\n",
       "      <td>CNG</td>\n",
       "      <td>Tarnowskie Góry</td>\n",
       "      <td>Śląskie</td>\n",
       "      <td>35900.0</td>\n",
       "    </tr>\n",
       "    <tr>\n",
       "      <th>5</th>\n",
       "      <td>opel</td>\n",
       "      <td>combo</td>\n",
       "      <td>gen-d-2011</td>\n",
       "      <td>2017</td>\n",
       "      <td>121203.0</td>\n",
       "      <td>1598</td>\n",
       "      <td>Diesel</td>\n",
       "      <td>Warszawa</td>\n",
       "      <td>Mazowieckie</td>\n",
       "      <td>51900.0</td>\n",
       "    </tr>\n",
       "  </tbody>\n",
       "</table>\n",
       "</div>"
      ],
      "text/plain": [
       "   mark  model generation_name  year   mileage  vol_engine    fuel  \\\n",
       "0  opel  combo      gen-d-2011  2015  139568.0        1248  Diesel   \n",
       "2  opel  combo      gen-d-2011  2015  278437.0        1598  Diesel   \n",
       "3  opel  combo      gen-d-2011  2016   47600.0        1248  Diesel   \n",
       "4  opel  combo      gen-d-2011  2014  103000.0        1400     CNG   \n",
       "5  opel  combo      gen-d-2011  2017  121203.0        1598  Diesel   \n",
       "\n",
       "              city     province    price  \n",
       "0            Janki  Mazowieckie  35900.0  \n",
       "2            Brzeg     Opolskie  27000.0  \n",
       "3        Korfantów     Opolskie  30800.0  \n",
       "4  Tarnowskie Góry      Śląskie  35900.0  \n",
       "5         Warszawa  Mazowieckie  51900.0  "
      ]
     },
     "execution_count": 124,
     "metadata": {},
     "output_type": "execute_result"
    }
   ],
   "source": [
    "df.head()"
   ]
  },
  {
   "cell_type": "code",
   "execution_count": 125,
   "id": "517490c2",
   "metadata": {},
   "outputs": [
    {
     "data": {
      "text/plain": [
       "1"
      ]
     },
     "execution_count": 125,
     "metadata": {},
     "output_type": "execute_result"
    }
   ],
   "source": [
    "df['mark'].nunique()"
   ]
  },
  {
   "cell_type": "code",
   "execution_count": 126,
   "id": "a1beedaf",
   "metadata": {},
   "outputs": [
    {
     "data": {
      "text/plain": [
       "7"
      ]
     },
     "execution_count": 126,
     "metadata": {},
     "output_type": "execute_result"
    }
   ],
   "source": [
    "df['model'].nunique()"
   ]
  },
  {
   "cell_type": "code",
   "execution_count": 127,
   "id": "0fd006c6",
   "metadata": {},
   "outputs": [
    {
     "data": {
      "text/plain": [
       "9"
      ]
     },
     "execution_count": 127,
     "metadata": {},
     "output_type": "execute_result"
    }
   ],
   "source": [
    "df['generation_name'].nunique()"
   ]
  },
  {
   "cell_type": "code",
   "execution_count": 128,
   "id": "aac8ebf5",
   "metadata": {},
   "outputs": [
    {
     "data": {
      "text/plain": [
       "5"
      ]
     },
     "execution_count": 128,
     "metadata": {},
     "output_type": "execute_result"
    }
   ],
   "source": [
    "df['fuel'].nunique()"
   ]
  },
  {
   "cell_type": "code",
   "execution_count": 129,
   "id": "f4969d68",
   "metadata": {},
   "outputs": [
    {
     "data": {
      "text/plain": [
       "795"
      ]
     },
     "execution_count": 129,
     "metadata": {},
     "output_type": "execute_result"
    }
   ],
   "source": [
    "df['city'].nunique()"
   ]
  },
  {
   "cell_type": "code",
   "execution_count": 130,
   "id": "c03be537",
   "metadata": {},
   "outputs": [
    {
     "data": {
      "text/plain": [
       "16"
      ]
     },
     "execution_count": 130,
     "metadata": {},
     "output_type": "execute_result"
    }
   ],
   "source": [
    "df['province'].nunique()"
   ]
  },
  {
   "cell_type": "code",
   "execution_count": 131,
   "id": "6b9cb374",
   "metadata": {},
   "outputs": [],
   "source": [
    "#Dropping columns of mark, city, province and year since it doesnt have nothing to do with the prediction model\n",
    "df.drop(['province','city','year','mark'],axis=1,inplace=True)"
   ]
  },
  {
   "cell_type": "code",
   "execution_count": 132,
   "id": "9c421934",
   "metadata": {},
   "outputs": [
    {
     "data": {
      "text/html": [
       "<div>\n",
       "<style scoped>\n",
       "    .dataframe tbody tr th:only-of-type {\n",
       "        vertical-align: middle;\n",
       "    }\n",
       "\n",
       "    .dataframe tbody tr th {\n",
       "        vertical-align: top;\n",
       "    }\n",
       "\n",
       "    .dataframe thead th {\n",
       "        text-align: right;\n",
       "    }\n",
       "</style>\n",
       "<table border=\"1\" class=\"dataframe\">\n",
       "  <thead>\n",
       "    <tr style=\"text-align: right;\">\n",
       "      <th></th>\n",
       "      <th>model</th>\n",
       "      <th>generation_name</th>\n",
       "      <th>mileage</th>\n",
       "      <th>vol_engine</th>\n",
       "      <th>fuel</th>\n",
       "      <th>price</th>\n",
       "    </tr>\n",
       "  </thead>\n",
       "  <tbody>\n",
       "    <tr>\n",
       "      <th>0</th>\n",
       "      <td>combo</td>\n",
       "      <td>gen-d-2011</td>\n",
       "      <td>139568.0</td>\n",
       "      <td>1248</td>\n",
       "      <td>Diesel</td>\n",
       "      <td>35900.0</td>\n",
       "    </tr>\n",
       "    <tr>\n",
       "      <th>2</th>\n",
       "      <td>combo</td>\n",
       "      <td>gen-d-2011</td>\n",
       "      <td>278437.0</td>\n",
       "      <td>1598</td>\n",
       "      <td>Diesel</td>\n",
       "      <td>27000.0</td>\n",
       "    </tr>\n",
       "    <tr>\n",
       "      <th>3</th>\n",
       "      <td>combo</td>\n",
       "      <td>gen-d-2011</td>\n",
       "      <td>47600.0</td>\n",
       "      <td>1248</td>\n",
       "      <td>Diesel</td>\n",
       "      <td>30800.0</td>\n",
       "    </tr>\n",
       "    <tr>\n",
       "      <th>4</th>\n",
       "      <td>combo</td>\n",
       "      <td>gen-d-2011</td>\n",
       "      <td>103000.0</td>\n",
       "      <td>1400</td>\n",
       "      <td>CNG</td>\n",
       "      <td>35900.0</td>\n",
       "    </tr>\n",
       "    <tr>\n",
       "      <th>5</th>\n",
       "      <td>combo</td>\n",
       "      <td>gen-d-2011</td>\n",
       "      <td>121203.0</td>\n",
       "      <td>1598</td>\n",
       "      <td>Diesel</td>\n",
       "      <td>51900.0</td>\n",
       "    </tr>\n",
       "  </tbody>\n",
       "</table>\n",
       "</div>"
      ],
      "text/plain": [
       "   model generation_name   mileage  vol_engine    fuel    price\n",
       "0  combo      gen-d-2011  139568.0        1248  Diesel  35900.0\n",
       "2  combo      gen-d-2011  278437.0        1598  Diesel  27000.0\n",
       "3  combo      gen-d-2011   47600.0        1248  Diesel  30800.0\n",
       "4  combo      gen-d-2011  103000.0        1400     CNG  35900.0\n",
       "5  combo      gen-d-2011  121203.0        1598  Diesel  51900.0"
      ]
     },
     "execution_count": 132,
     "metadata": {},
     "output_type": "execute_result"
    }
   ],
   "source": [
    "df.head()"
   ]
  },
  {
   "cell_type": "markdown",
   "id": "85fedc4b",
   "metadata": {},
   "source": [
    "# Encoding"
   ]
  },
  {
   "cell_type": "markdown",
   "id": "29acb44b",
   "metadata": {},
   "source": [
    "Doing one hot encoding on Fuel and model"
   ]
  },
  {
   "cell_type": "code",
   "execution_count": 139,
   "id": "039da424",
   "metadata": {},
   "outputs": [],
   "source": [
    "df1 = pd.get_dummies(data = df, columns=['fuel', 'model'])"
   ]
  },
  {
   "cell_type": "code",
   "execution_count": 150,
   "id": "4c61dba2",
   "metadata": {},
   "outputs": [],
   "source": [
    "df1.drop('generation_name',axis=1,inplace=True)"
   ]
  },
  {
   "cell_type": "code",
   "execution_count": 151,
   "id": "9a98000d",
   "metadata": {},
   "outputs": [
    {
     "data": {
      "text/html": [
       "<div>\n",
       "<style scoped>\n",
       "    .dataframe tbody tr th:only-of-type {\n",
       "        vertical-align: middle;\n",
       "    }\n",
       "\n",
       "    .dataframe tbody tr th {\n",
       "        vertical-align: top;\n",
       "    }\n",
       "\n",
       "    .dataframe thead th {\n",
       "        text-align: right;\n",
       "    }\n",
       "</style>\n",
       "<table border=\"1\" class=\"dataframe\">\n",
       "  <thead>\n",
       "    <tr style=\"text-align: right;\">\n",
       "      <th></th>\n",
       "      <th>mileage</th>\n",
       "      <th>vol_engine</th>\n",
       "      <th>price</th>\n",
       "      <th>fuel_CNG</th>\n",
       "      <th>fuel_Diesel</th>\n",
       "      <th>fuel_Gasoline</th>\n",
       "      <th>fuel_Hybrid</th>\n",
       "      <th>fuel_LPG</th>\n",
       "      <th>model_adam</th>\n",
       "      <th>model_agila</th>\n",
       "      <th>model_ampera</th>\n",
       "      <th>model_antara</th>\n",
       "      <th>model_astra</th>\n",
       "      <th>model_combo</th>\n",
       "      <th>model_vectra</th>\n",
       "    </tr>\n",
       "  </thead>\n",
       "  <tbody>\n",
       "    <tr>\n",
       "      <th>0</th>\n",
       "      <td>139568.0</td>\n",
       "      <td>1248</td>\n",
       "      <td>35900.0</td>\n",
       "      <td>0</td>\n",
       "      <td>1</td>\n",
       "      <td>0</td>\n",
       "      <td>0</td>\n",
       "      <td>0</td>\n",
       "      <td>0</td>\n",
       "      <td>0</td>\n",
       "      <td>0</td>\n",
       "      <td>0</td>\n",
       "      <td>0</td>\n",
       "      <td>1</td>\n",
       "      <td>0</td>\n",
       "    </tr>\n",
       "    <tr>\n",
       "      <th>2</th>\n",
       "      <td>278437.0</td>\n",
       "      <td>1598</td>\n",
       "      <td>27000.0</td>\n",
       "      <td>0</td>\n",
       "      <td>1</td>\n",
       "      <td>0</td>\n",
       "      <td>0</td>\n",
       "      <td>0</td>\n",
       "      <td>0</td>\n",
       "      <td>0</td>\n",
       "      <td>0</td>\n",
       "      <td>0</td>\n",
       "      <td>0</td>\n",
       "      <td>1</td>\n",
       "      <td>0</td>\n",
       "    </tr>\n",
       "    <tr>\n",
       "      <th>3</th>\n",
       "      <td>47600.0</td>\n",
       "      <td>1248</td>\n",
       "      <td>30800.0</td>\n",
       "      <td>0</td>\n",
       "      <td>1</td>\n",
       "      <td>0</td>\n",
       "      <td>0</td>\n",
       "      <td>0</td>\n",
       "      <td>0</td>\n",
       "      <td>0</td>\n",
       "      <td>0</td>\n",
       "      <td>0</td>\n",
       "      <td>0</td>\n",
       "      <td>1</td>\n",
       "      <td>0</td>\n",
       "    </tr>\n",
       "    <tr>\n",
       "      <th>4</th>\n",
       "      <td>103000.0</td>\n",
       "      <td>1400</td>\n",
       "      <td>35900.0</td>\n",
       "      <td>1</td>\n",
       "      <td>0</td>\n",
       "      <td>0</td>\n",
       "      <td>0</td>\n",
       "      <td>0</td>\n",
       "      <td>0</td>\n",
       "      <td>0</td>\n",
       "      <td>0</td>\n",
       "      <td>0</td>\n",
       "      <td>0</td>\n",
       "      <td>1</td>\n",
       "      <td>0</td>\n",
       "    </tr>\n",
       "    <tr>\n",
       "      <th>5</th>\n",
       "      <td>121203.0</td>\n",
       "      <td>1598</td>\n",
       "      <td>51900.0</td>\n",
       "      <td>0</td>\n",
       "      <td>1</td>\n",
       "      <td>0</td>\n",
       "      <td>0</td>\n",
       "      <td>0</td>\n",
       "      <td>0</td>\n",
       "      <td>0</td>\n",
       "      <td>0</td>\n",
       "      <td>0</td>\n",
       "      <td>0</td>\n",
       "      <td>1</td>\n",
       "      <td>0</td>\n",
       "    </tr>\n",
       "  </tbody>\n",
       "</table>\n",
       "</div>"
      ],
      "text/plain": [
       "    mileage  vol_engine    price  fuel_CNG  fuel_Diesel  fuel_Gasoline  \\\n",
       "0  139568.0        1248  35900.0         0            1              0   \n",
       "2  278437.0        1598  27000.0         0            1              0   \n",
       "3   47600.0        1248  30800.0         0            1              0   \n",
       "4  103000.0        1400  35900.0         1            0              0   \n",
       "5  121203.0        1598  51900.0         0            1              0   \n",
       "\n",
       "   fuel_Hybrid  fuel_LPG  model_adam  model_agila  model_ampera  model_antara  \\\n",
       "0            0         0           0            0             0             0   \n",
       "2            0         0           0            0             0             0   \n",
       "3            0         0           0            0             0             0   \n",
       "4            0         0           0            0             0             0   \n",
       "5            0         0           0            0             0             0   \n",
       "\n",
       "   model_astra  model_combo  model_vectra  \n",
       "0            0            1             0  \n",
       "2            0            1             0  \n",
       "3            0            1             0  \n",
       "4            0            1             0  \n",
       "5            0            1             0  "
      ]
     },
     "execution_count": 151,
     "metadata": {},
     "output_type": "execute_result"
    }
   ],
   "source": [
    "df1.head()"
   ]
  },
  {
   "cell_type": "code",
   "execution_count": 152,
   "id": "bf6b93cf",
   "metadata": {},
   "outputs": [
    {
     "data": {
      "text/html": [
       "<div>\n",
       "<style scoped>\n",
       "    .dataframe tbody tr th:only-of-type {\n",
       "        vertical-align: middle;\n",
       "    }\n",
       "\n",
       "    .dataframe tbody tr th {\n",
       "        vertical-align: top;\n",
       "    }\n",
       "\n",
       "    .dataframe thead th {\n",
       "        text-align: right;\n",
       "    }\n",
       "</style>\n",
       "<table border=\"1\" class=\"dataframe\">\n",
       "  <thead>\n",
       "    <tr style=\"text-align: right;\">\n",
       "      <th></th>\n",
       "      <th>mileage</th>\n",
       "      <th>vol_engine</th>\n",
       "      <th>price</th>\n",
       "      <th>fuel_CNG</th>\n",
       "      <th>fuel_Diesel</th>\n",
       "      <th>fuel_Gasoline</th>\n",
       "      <th>fuel_Hybrid</th>\n",
       "      <th>fuel_LPG</th>\n",
       "      <th>model_adam</th>\n",
       "      <th>model_agila</th>\n",
       "      <th>model_ampera</th>\n",
       "      <th>model_antara</th>\n",
       "      <th>model_astra</th>\n",
       "      <th>model_combo</th>\n",
       "      <th>model_vectra</th>\n",
       "    </tr>\n",
       "  </thead>\n",
       "  <tbody>\n",
       "    <tr>\n",
       "      <th>0</th>\n",
       "      <td>139568.0</td>\n",
       "      <td>1248</td>\n",
       "      <td>35900.0</td>\n",
       "      <td>0</td>\n",
       "      <td>1</td>\n",
       "      <td>0</td>\n",
       "      <td>0</td>\n",
       "      <td>0</td>\n",
       "      <td>0</td>\n",
       "      <td>0</td>\n",
       "      <td>0</td>\n",
       "      <td>0</td>\n",
       "      <td>0</td>\n",
       "      <td>1</td>\n",
       "      <td>0</td>\n",
       "    </tr>\n",
       "    <tr>\n",
       "      <th>2</th>\n",
       "      <td>278437.0</td>\n",
       "      <td>1598</td>\n",
       "      <td>27000.0</td>\n",
       "      <td>0</td>\n",
       "      <td>1</td>\n",
       "      <td>0</td>\n",
       "      <td>0</td>\n",
       "      <td>0</td>\n",
       "      <td>0</td>\n",
       "      <td>0</td>\n",
       "      <td>0</td>\n",
       "      <td>0</td>\n",
       "      <td>0</td>\n",
       "      <td>1</td>\n",
       "      <td>0</td>\n",
       "    </tr>\n",
       "    <tr>\n",
       "      <th>3</th>\n",
       "      <td>47600.0</td>\n",
       "      <td>1248</td>\n",
       "      <td>30800.0</td>\n",
       "      <td>0</td>\n",
       "      <td>1</td>\n",
       "      <td>0</td>\n",
       "      <td>0</td>\n",
       "      <td>0</td>\n",
       "      <td>0</td>\n",
       "      <td>0</td>\n",
       "      <td>0</td>\n",
       "      <td>0</td>\n",
       "      <td>0</td>\n",
       "      <td>1</td>\n",
       "      <td>0</td>\n",
       "    </tr>\n",
       "    <tr>\n",
       "      <th>4</th>\n",
       "      <td>103000.0</td>\n",
       "      <td>1400</td>\n",
       "      <td>35900.0</td>\n",
       "      <td>1</td>\n",
       "      <td>0</td>\n",
       "      <td>0</td>\n",
       "      <td>0</td>\n",
       "      <td>0</td>\n",
       "      <td>0</td>\n",
       "      <td>0</td>\n",
       "      <td>0</td>\n",
       "      <td>0</td>\n",
       "      <td>0</td>\n",
       "      <td>1</td>\n",
       "      <td>0</td>\n",
       "    </tr>\n",
       "    <tr>\n",
       "      <th>5</th>\n",
       "      <td>121203.0</td>\n",
       "      <td>1598</td>\n",
       "      <td>51900.0</td>\n",
       "      <td>0</td>\n",
       "      <td>1</td>\n",
       "      <td>0</td>\n",
       "      <td>0</td>\n",
       "      <td>0</td>\n",
       "      <td>0</td>\n",
       "      <td>0</td>\n",
       "      <td>0</td>\n",
       "      <td>0</td>\n",
       "      <td>0</td>\n",
       "      <td>1</td>\n",
       "      <td>0</td>\n",
       "    </tr>\n",
       "  </tbody>\n",
       "</table>\n",
       "</div>"
      ],
      "text/plain": [
       "    mileage  vol_engine    price  fuel_CNG  fuel_Diesel  fuel_Gasoline  \\\n",
       "0  139568.0        1248  35900.0         0            1              0   \n",
       "2  278437.0        1598  27000.0         0            1              0   \n",
       "3   47600.0        1248  30800.0         0            1              0   \n",
       "4  103000.0        1400  35900.0         1            0              0   \n",
       "5  121203.0        1598  51900.0         0            1              0   \n",
       "\n",
       "   fuel_Hybrid  fuel_LPG  model_adam  model_agila  model_ampera  model_antara  \\\n",
       "0            0         0           0            0             0             0   \n",
       "2            0         0           0            0             0             0   \n",
       "3            0         0           0            0             0             0   \n",
       "4            0         0           0            0             0             0   \n",
       "5            0         0           0            0             0             0   \n",
       "\n",
       "   model_astra  model_combo  model_vectra  \n",
       "0            0            1             0  \n",
       "2            0            1             0  \n",
       "3            0            1             0  \n",
       "4            0            1             0  \n",
       "5            0            1             0  "
      ]
     },
     "execution_count": 152,
     "metadata": {},
     "output_type": "execute_result"
    }
   ],
   "source": [
    "df1.head()"
   ]
  },
  {
   "cell_type": "markdown",
   "id": "8fdef25b",
   "metadata": {},
   "source": [
    "# Correlation analysis"
   ]
  },
  {
   "cell_type": "code",
   "execution_count": 153,
   "id": "f4371b42",
   "metadata": {},
   "outputs": [
    {
     "data": {
      "image/png": "[encoded data removed]",
      "text/plain": [
       "<Figure size 1080x504 with 2 Axes>"
      ]
     },
     "metadata": {
      "needs_background": "light"
     },
     "output_type": "display_data"
    }
   ],
   "source": [
    "plt.figure(figsize = (15, 7))\n",
    "sns.heatmap(data = df1.corr(), annot= True, cmap = 'BuGn')\n",
    "plt.title('Correlation Heatmap')\n",
    "plt.show()\n"
   ]
  },
  {
   "cell_type": "code",
   "execution_count": 143,
   "id": "13ea2ffe",
   "metadata": {},
   "outputs": [],
   "source": [
    "#Since all the corr values are less than 0.5 so we dont have to drop any fields"
   ]
  },
  {
   "cell_type": "markdown",
   "id": "d0aa032d",
   "metadata": {},
   "source": [
    "# Standardization / Normalization"
   ]
  },
  {
   "cell_type": "code",
   "execution_count": 154,
   "id": "2fe64ea5",
   "metadata": {},
   "outputs": [
    {
     "data": {
      "image/png": "[encoded data removed]",
      "text/plain": [
       "<Figure size 720x720 with 16 Axes>"
      ]
     },
     "metadata": {
      "needs_background": "light"
     },
     "output_type": "display_data"
    }
   ],
   "source": [
    "df1.hist(figsize = (10, 10))\n",
    "plt.show()"
   ]
  },
  {
   "cell_type": "code",
   "execution_count": null,
   "id": "342b6a3d",
   "metadata": {},
   "outputs": [],
   "source": []
  },
  {
   "cell_type": "code",
   "execution_count": 156,
   "id": "7dc360ab",
   "metadata": {},
   "outputs": [],
   "source": [
    "X_columns = df1.columns\n",
    "\n",
    "from sklearn.preprocessing import StandardScaler\n",
    "X = pd.DataFrame(StandardScaler().fit_transform(df1), columns=X_columns)\n"
   ]
  },
  {
   "cell_type": "code",
   "execution_count": 157,
   "id": "c25111e4",
   "metadata": {},
   "outputs": [
    {
     "data": {
      "text/html": [
       "<div>\n",
       "<style scoped>\n",
       "    .dataframe tbody tr th:only-of-type {\n",
       "        vertical-align: middle;\n",
       "    }\n",
       "\n",
       "    .dataframe tbody tr th {\n",
       "        vertical-align: top;\n",
       "    }\n",
       "\n",
       "    .dataframe thead th {\n",
       "        text-align: right;\n",
       "    }\n",
       "</style>\n",
       "<table border=\"1\" class=\"dataframe\">\n",
       "  <thead>\n",
       "    <tr style=\"text-align: right;\">\n",
       "      <th></th>\n",
       "      <th>mileage</th>\n",
       "      <th>vol_engine</th>\n",
       "      <th>price</th>\n",
       "      <th>fuel_CNG</th>\n",
       "      <th>fuel_Diesel</th>\n",
       "      <th>fuel_Gasoline</th>\n",
       "      <th>fuel_Hybrid</th>\n",
       "      <th>fuel_LPG</th>\n",
       "      <th>model_adam</th>\n",
       "      <th>model_agila</th>\n",
       "      <th>model_ampera</th>\n",
       "      <th>model_antara</th>\n",
       "      <th>model_astra</th>\n",
       "      <th>model_combo</th>\n",
       "      <th>model_vectra</th>\n",
       "    </tr>\n",
       "  </thead>\n",
       "  <tbody>\n",
       "    <tr>\n",
       "      <th>count</th>\n",
       "      <td>3.058000e+03</td>\n",
       "      <td>3.058000e+03</td>\n",
       "      <td>3.058000e+03</td>\n",
       "      <td>3.058000e+03</td>\n",
       "      <td>3.058000e+03</td>\n",
       "      <td>3.058000e+03</td>\n",
       "      <td>3.058000e+03</td>\n",
       "      <td>3.058000e+03</td>\n",
       "      <td>3.058000e+03</td>\n",
       "      <td>3.058000e+03</td>\n",
       "      <td>3.058000e+03</td>\n",
       "      <td>3.058000e+03</td>\n",
       "      <td>3.058000e+03</td>\n",
       "      <td>3.058000e+03</td>\n",
       "      <td>3.058000e+03</td>\n",
       "    </tr>\n",
       "    <tr>\n",
       "      <th>mean</th>\n",
       "      <td>4.833718e-16</td>\n",
       "      <td>-1.919064e-15</td>\n",
       "      <td>-8.550678e-16</td>\n",
       "      <td>-7.085931e-16</td>\n",
       "      <td>2.028753e-16</td>\n",
       "      <td>-1.021347e-15</td>\n",
       "      <td>-1.644645e-15</td>\n",
       "      <td>-1.627940e-16</td>\n",
       "      <td>6.905947e-15</td>\n",
       "      <td>7.537608e-15</td>\n",
       "      <td>-1.644645e-15</td>\n",
       "      <td>9.485799e-15</td>\n",
       "      <td>-1.143283e-14</td>\n",
       "      <td>8.690581e-15</td>\n",
       "      <td>-1.754301e-15</td>\n",
       "    </tr>\n",
       "    <tr>\n",
       "      <th>std</th>\n",
       "      <td>1.000164e+00</td>\n",
       "      <td>1.000164e+00</td>\n",
       "      <td>1.000164e+00</td>\n",
       "      <td>1.000164e+00</td>\n",
       "      <td>1.000164e+00</td>\n",
       "      <td>1.000164e+00</td>\n",
       "      <td>1.000164e+00</td>\n",
       "      <td>1.000164e+00</td>\n",
       "      <td>1.000164e+00</td>\n",
       "      <td>1.000164e+00</td>\n",
       "      <td>1.000164e+00</td>\n",
       "      <td>1.000164e+00</td>\n",
       "      <td>1.000164e+00</td>\n",
       "      <td>1.000164e+00</td>\n",
       "      <td>1.000164e+00</td>\n",
       "    </tr>\n",
       "    <tr>\n",
       "      <th>min</th>\n",
       "      <td>-2.759566e+00</td>\n",
       "      <td>-2.300629e+00</td>\n",
       "      <td>-1.786963e+00</td>\n",
       "      <td>-2.558223e-02</td>\n",
       "      <td>-6.585298e-01</td>\n",
       "      <td>-1.308968e+00</td>\n",
       "      <td>-5.121475e-02</td>\n",
       "      <td>-2.588288e-01</td>\n",
       "      <td>-1.790589e-01</td>\n",
       "      <td>-1.680619e-01</td>\n",
       "      <td>-5.121475e-02</td>\n",
       "      <td>-2.341933e-01</td>\n",
       "      <td>-2.201599e+00</td>\n",
       "      <td>-1.390444e-01</td>\n",
       "      <td>-2.012212e-01</td>\n",
       "    </tr>\n",
       "    <tr>\n",
       "      <th>25%</th>\n",
       "      <td>-6.690659e-01</td>\n",
       "      <td>-8.548539e-01</td>\n",
       "      <td>-8.224034e-01</td>\n",
       "      <td>-2.558223e-02</td>\n",
       "      <td>-6.585298e-01</td>\n",
       "      <td>-1.308968e+00</td>\n",
       "      <td>-5.121475e-02</td>\n",
       "      <td>-2.588288e-01</td>\n",
       "      <td>-1.790589e-01</td>\n",
       "      <td>-1.680619e-01</td>\n",
       "      <td>-5.121475e-02</td>\n",
       "      <td>-2.341933e-01</td>\n",
       "      <td>4.542154e-01</td>\n",
       "      <td>-1.390444e-01</td>\n",
       "      <td>-2.012212e-01</td>\n",
       "    </tr>\n",
       "    <tr>\n",
       "      <th>50%</th>\n",
       "      <td>5.833393e-03</td>\n",
       "      <td>1.039280e-02</td>\n",
       "      <td>-1.524043e-02</td>\n",
       "      <td>-2.558223e-02</td>\n",
       "      <td>-6.585298e-01</td>\n",
       "      <td>7.639604e-01</td>\n",
       "      <td>-5.121475e-02</td>\n",
       "      <td>-2.588288e-01</td>\n",
       "      <td>-1.790589e-01</td>\n",
       "      <td>-1.680619e-01</td>\n",
       "      <td>-5.121475e-02</td>\n",
       "      <td>-2.341933e-01</td>\n",
       "      <td>4.542154e-01</td>\n",
       "      <td>-1.390444e-01</td>\n",
       "      <td>-2.012212e-01</td>\n",
       "    </tr>\n",
       "    <tr>\n",
       "      <th>75%</th>\n",
       "      <td>6.638602e-01</td>\n",
       "      <td>3.357847e-01</td>\n",
       "      <td>5.982035e-01</td>\n",
       "      <td>-2.558223e-02</td>\n",
       "      <td>1.518534e+00</td>\n",
       "      <td>7.639604e-01</td>\n",
       "      <td>-5.121475e-02</td>\n",
       "      <td>-2.588288e-01</td>\n",
       "      <td>-1.790589e-01</td>\n",
       "      <td>-1.680619e-01</td>\n",
       "      <td>-5.121475e-02</td>\n",
       "      <td>-2.341933e-01</td>\n",
       "      <td>4.542154e-01</td>\n",
       "      <td>-1.390444e-01</td>\n",
       "      <td>-2.012212e-01</td>\n",
       "    </tr>\n",
       "    <tr>\n",
       "      <th>max</th>\n",
       "      <td>2.758275e+00</td>\n",
       "      <td>5.915516e+00</td>\n",
       "      <td>2.971263e+00</td>\n",
       "      <td>3.908964e+01</td>\n",
       "      <td>1.518534e+00</td>\n",
       "      <td>7.639604e-01</td>\n",
       "      <td>1.952562e+01</td>\n",
       "      <td>3.863558e+00</td>\n",
       "      <td>5.584754e+00</td>\n",
       "      <td>5.950190e+00</td>\n",
       "      <td>1.952562e+01</td>\n",
       "      <td>4.269977e+00</td>\n",
       "      <td>4.542154e-01</td>\n",
       "      <td>7.191950e+00</td>\n",
       "      <td>4.969656e+00</td>\n",
       "    </tr>\n",
       "  </tbody>\n",
       "</table>\n",
       "</div>"
      ],
      "text/plain": [
       "            mileage    vol_engine         price      fuel_CNG   fuel_Diesel  \\\n",
       "count  3.058000e+03  3.058000e+03  3.058000e+03  3.058000e+03  3.058000e+03   \n",
       "mean   4.833718e-16 -1.919064e-15 -8.550678e-16 -7.085931e-16  2.028753e-16   \n",
       "std    1.000164e+00  1.000164e+00  1.000164e+00  1.000164e+00  1.000164e+00   \n",
       "min   -2.759566e+00 -2.300629e+00 -1.786963e+00 -2.558223e-02 -6.585298e-01   \n",
       "25%   -6.690659e-01 -8.548539e-01 -8.224034e-01 -2.558223e-02 -6.585298e-01   \n",
       "50%    5.833393e-03  1.039280e-02 -1.524043e-02 -2.558223e-02 -6.585298e-01   \n",
       "75%    6.638602e-01  3.357847e-01  5.982035e-01 -2.558223e-02  1.518534e+00   \n",
       "max    2.758275e+00  5.915516e+00  2.971263e+00  3.908964e+01  1.518534e+00   \n",
       "\n",
       "       fuel_Gasoline   fuel_Hybrid      fuel_LPG    model_adam   model_agila  \\\n",
       "count   3.058000e+03  3.058000e+03  3.058000e+03  3.058000e+03  3.058000e+03   \n",
       "mean   -1.021347e-15 -1.644645e-15 -1.627940e-16  6.905947e-15  7.537608e-15   \n",
       "std     1.000164e+00  1.000164e+00  1.000164e+00  1.000164e+00  1.000164e+00   \n",
       "min    -1.308968e+00 -5.121475e-02 -2.588288e-01 -1.790589e-01 -1.680619e-01   \n",
       "25%    -1.308968e+00 -5.121475e-02 -2.588288e-01 -1.790589e-01 -1.680619e-01   \n",
       "50%     7.639604e-01 -5.121475e-02 -2.588288e-01 -1.790589e-01 -1.680619e-01   \n",
       "75%     7.639604e-01 -5.121475e-02 -2.588288e-01 -1.790589e-01 -1.680619e-01   \n",
       "max     7.639604e-01  1.952562e+01  3.863558e+00  5.584754e+00  5.950190e+00   \n",
       "\n",
       "       model_ampera  model_antara   model_astra   model_combo  model_vectra  \n",
       "count  3.058000e+03  3.058000e+03  3.058000e+03  3.058000e+03  3.058000e+03  \n",
       "mean  -1.644645e-15  9.485799e-15 -1.143283e-14  8.690581e-15 -1.754301e-15  \n",
       "std    1.000164e+00  1.000164e+00  1.000164e+00  1.000164e+00  1.000164e+00  \n",
       "min   -5.121475e-02 -2.341933e-01 -2.201599e+00 -1.390444e-01 -2.012212e-01  \n",
       "25%   -5.121475e-02 -2.341933e-01  4.542154e-01 -1.390444e-01 -2.012212e-01  \n",
       "50%   -5.121475e-02 -2.341933e-01  4.542154e-01 -1.390444e-01 -2.012212e-01  \n",
       "75%   -5.121475e-02 -2.341933e-01  4.542154e-01 -1.390444e-01 -2.012212e-01  \n",
       "max    1.952562e+01  4.269977e+00  4.542154e-01  7.191950e+00  4.969656e+00  "
      ]
     },
     "execution_count": 157,
     "metadata": {},
     "output_type": "execute_result"
    }
   ],
   "source": [
    "X.describe()"
   ]
  },
  {
   "cell_type": "markdown",
   "id": "d6c914fd",
   "metadata": {},
   "source": [
    "# Linaer Regression"
   ]
  },
  {
   "cell_type": "code",
   "execution_count": 158,
   "id": "1a8d24e6",
   "metadata": {},
   "outputs": [],
   "source": [
    "from sklearn.model_selection import train_test_split\n",
    "from sklearn import linear_model\n",
    "from sklearn.metrics import mean_squared_error\n",
    "from scipy.stats.stats import pearsonr"
   ]
  },
  {
   "cell_type": "code",
   "execution_count": 162,
   "id": "38d41263",
   "metadata": {},
   "outputs": [
    {
     "data": {
      "text/plain": [
       "(3058, 14)"
      ]
     },
     "execution_count": 162,
     "metadata": {},
     "output_type": "execute_result"
    }
   ],
   "source": [
    "y=X['price']\n",
    "x=X.drop(['price'],axis=1)\n",
    "x.shape"
   ]
  },
  {
   "cell_type": "code",
   "execution_count": 165,
   "id": "74e04b41",
   "metadata": {},
   "outputs": [],
   "source": [
    "x_train,x_test,y_train,y_test= train_test_split(x,y,random_state=42,test_size=0.25)\n",
    "lr=linear_model.LinearRegression()\n",
    "model=lr.fit(x_train,y_train)\n",
    "predictions= model.predict(x_test)"
   ]
  },
  {
   "cell_type": "code",
   "execution_count": 166,
   "id": "b8d6a87b",
   "metadata": {},
   "outputs": [
    {
     "name": "stdout",
     "output_type": "stream",
     "text": [
      "mean squared error when all independant variables are considered is 0.488 \n"
     ]
    }
   ],
   "source": [
    "print('mean squared error when all independant variables are considered is %0.3f '%(mean_squared_error(predictions,y_test)))"
   ]
  },
  {
   "cell_type": "code",
   "execution_count": 167,
   "id": "00d6d28f",
   "metadata": {},
   "outputs": [
    {
     "data": {
      "text/plain": [
       "0.47415990048174594"
      ]
     },
     "execution_count": 167,
     "metadata": {},
     "output_type": "execute_result"
    }
   ],
   "source": [
    "R2Score= model.score(x_train,y_train)\n",
    "R2Score"
   ]
  },
  {
   "cell_type": "code",
   "execution_count": 168,
   "id": "61cbf22b",
   "metadata": {},
   "outputs": [],
   "source": [
    "#MSC values shows that it is a good model"
   ]
  },
  {
   "cell_type": "code",
   "execution_count": null,
   "id": "38ef023a",
   "metadata": {},
   "outputs": [],
   "source": []
  }
 ],
 "metadata": {
  "kernelspec": {
   "display_name": "Python 3",
   "language": "python",
   "name": "python3"
  },
  "language_info": {
   "codemirror_mode": {
    "name": "ipython",
    "version": 3
   },
   "file_extension": ".py",
   "mimetype": "text/x-python",
   "name": "python",
   "nbconvert_exporter": "python",
   "pygments_lexer": "ipython3",
   "version": "3.8.8"
  }
 },
 "nbformat": 4,
 "nbformat_minor": 5
}
